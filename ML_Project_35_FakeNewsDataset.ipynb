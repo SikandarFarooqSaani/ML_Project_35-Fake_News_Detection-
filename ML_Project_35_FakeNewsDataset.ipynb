{
  "cells": [
    {
      "cell_type": "code",
      "execution_count": 1,
      "metadata": {
        "id": "68a8OuG5ixTR"
      },
      "outputs": [],
      "source": [
        "import pandas as pd\n",
        "import numpy as np\n",
        "import matplotlib.pyplot as plt\n",
        "import seaborn as sns\n",
        "import pickle\n",
        "from sklearn.model_selection import train_test_split\n",
        "from sklearn.feature_extraction.text import TfidfVectorizer\n",
        "from sklearn.linear_model import LogisticRegression\n",
        "from sklearn.metrics import accuracy_score, classification_report, confusion_matrix, roc_curve, auc\n",
        "import kagglehub\n",
        "import os\n",
        "from sklearn.naive_bayes import MultinomialNB\n",
        "from sklearn.ensemble import RandomForestClassifier\n",
        "from sklearn.svm import SVC\n",
        "from xgboost import XGBClassifier\n",
        "from sklearn.tree import DecisionTreeClassifier\n",
        "from sklearn.neighbors import KNeighborsClassifier\n"
      ]
    },
    {
      "cell_type": "code",
      "execution_count": 5,
      "metadata": {
        "id": "TAMlYwpvjUeM"
      },
      "outputs": [],
      "source": [
        "fake_df = pd.read_csv(\"/content/Fake.csv\")  # Update with your correct path\n",
        "true_df = pd.read_csv(\"/content/True.csv\")  # Update with your correct path"
      ]
    },
    {
      "cell_type": "code",
      "execution_count": 6,
      "metadata": {
        "id": "LGJQ9WEljgCe"
      },
      "outputs": [],
      "source": [
        "# Add labels\n",
        "fake_df[\"label\"] = 0  # Fake news\n",
        "true_df[\"label\"] = 1  # True news"
      ]
    },
    {
      "cell_type": "code",
      "execution_count": 7,
      "metadata": {
        "id": "DPZLU2MJjidh"
      },
      "outputs": [],
      "source": [
        "# Combine both datasets\n",
        "df = pd.concat([fake_df, true_df], axis=0).reset_index(drop=True)\n",
        "\n",
        "# Shuffle dataset\n",
        "df = df.sample(frac=1, random_state=42).reset_index(drop=True)"
      ]
    },
    {
      "cell_type": "code",
      "source": [
        "df.head()"
      ],
      "metadata": {
        "colab": {
          "base_uri": "https://localhost:8080/",
          "height": 293
        },
        "id": "RN7i6l5EcxXl",
        "outputId": "35fd3713-ddb2-4ce6-b61b-05c1a075969d"
      },
      "execution_count": 8,
      "outputs": [
        {
          "output_type": "execute_result",
          "data": {
            "text/plain": [
              "                                               title  \\\n",
              "0  Ben Stein Calls Out 9th Circuit Court: Committ...   \n",
              "1  Trump drops Steve Bannon from National Securit...   \n",
              "2  Puerto Rico expects U.S. to lift Jones Act shi...   \n",
              "3   OOPS: Trump Just Accidentally Confirmed He Le...   \n",
              "4  Donald Trump heads for Scotland to reopen a go...   \n",
              "\n",
              "                                                text       subject  \\\n",
              "0  21st Century Wire says Ben Stein, reputable pr...       US_News   \n",
              "1  WASHINGTON (Reuters) - U.S. President Donald T...  politicsNews   \n",
              "2  (Reuters) - Puerto Rico Governor Ricardo Rosse...  politicsNews   \n",
              "3  On Monday, Donald Trump once again embarrassed...          News   \n",
              "4  GLASGOW, Scotland (Reuters) - Most U.S. presid...  politicsNews   \n",
              "\n",
              "                  date  label  \n",
              "0    February 13, 2017      0  \n",
              "1       April 5, 2017       1  \n",
              "2  September 27, 2017       1  \n",
              "3         May 22, 2017      0  \n",
              "4       June 24, 2016       1  "
            ],
            "text/html": [
              "\n",
              "  <div id=\"df-3dddcf37-322e-4549-a372-8038f6416098\" class=\"colab-df-container\">\n",
              "    <div>\n",
              "<style scoped>\n",
              "    .dataframe tbody tr th:only-of-type {\n",
              "        vertical-align: middle;\n",
              "    }\n",
              "\n",
              "    .dataframe tbody tr th {\n",
              "        vertical-align: top;\n",
              "    }\n",
              "\n",
              "    .dataframe thead th {\n",
              "        text-align: right;\n",
              "    }\n",
              "</style>\n",
              "<table border=\"1\" class=\"dataframe\">\n",
              "  <thead>\n",
              "    <tr style=\"text-align: right;\">\n",
              "      <th></th>\n",
              "      <th>title</th>\n",
              "      <th>text</th>\n",
              "      <th>subject</th>\n",
              "      <th>date</th>\n",
              "      <th>label</th>\n",
              "    </tr>\n",
              "  </thead>\n",
              "  <tbody>\n",
              "    <tr>\n",
              "      <th>0</th>\n",
              "      <td>Ben Stein Calls Out 9th Circuit Court: Committ...</td>\n",
              "      <td>21st Century Wire says Ben Stein, reputable pr...</td>\n",
              "      <td>US_News</td>\n",
              "      <td>February 13, 2017</td>\n",
              "      <td>0</td>\n",
              "    </tr>\n",
              "    <tr>\n",
              "      <th>1</th>\n",
              "      <td>Trump drops Steve Bannon from National Securit...</td>\n",
              "      <td>WASHINGTON (Reuters) - U.S. President Donald T...</td>\n",
              "      <td>politicsNews</td>\n",
              "      <td>April 5, 2017</td>\n",
              "      <td>1</td>\n",
              "    </tr>\n",
              "    <tr>\n",
              "      <th>2</th>\n",
              "      <td>Puerto Rico expects U.S. to lift Jones Act shi...</td>\n",
              "      <td>(Reuters) - Puerto Rico Governor Ricardo Rosse...</td>\n",
              "      <td>politicsNews</td>\n",
              "      <td>September 27, 2017</td>\n",
              "      <td>1</td>\n",
              "    </tr>\n",
              "    <tr>\n",
              "      <th>3</th>\n",
              "      <td>OOPS: Trump Just Accidentally Confirmed He Le...</td>\n",
              "      <td>On Monday, Donald Trump once again embarrassed...</td>\n",
              "      <td>News</td>\n",
              "      <td>May 22, 2017</td>\n",
              "      <td>0</td>\n",
              "    </tr>\n",
              "    <tr>\n",
              "      <th>4</th>\n",
              "      <td>Donald Trump heads for Scotland to reopen a go...</td>\n",
              "      <td>GLASGOW, Scotland (Reuters) - Most U.S. presid...</td>\n",
              "      <td>politicsNews</td>\n",
              "      <td>June 24, 2016</td>\n",
              "      <td>1</td>\n",
              "    </tr>\n",
              "  </tbody>\n",
              "</table>\n",
              "</div>\n",
              "    <div class=\"colab-df-buttons\">\n",
              "\n",
              "  <div class=\"colab-df-container\">\n",
              "    <button class=\"colab-df-convert\" onclick=\"convertToInteractive('df-3dddcf37-322e-4549-a372-8038f6416098')\"\n",
              "            title=\"Convert this dataframe to an interactive table.\"\n",
              "            style=\"display:none;\">\n",
              "\n",
              "  <svg xmlns=\"http://www.w3.org/2000/svg\" height=\"24px\" viewBox=\"0 -960 960 960\">\n",
              "    <path d=\"M120-120v-720h720v720H120Zm60-500h600v-160H180v160Zm220 220h160v-160H400v160Zm0 220h160v-160H400v160ZM180-400h160v-160H180v160Zm440 0h160v-160H620v160ZM180-180h160v-160H180v160Zm440 0h160v-160H620v160Z\"/>\n",
              "  </svg>\n",
              "    </button>\n",
              "\n",
              "  <style>\n",
              "    .colab-df-container {\n",
              "      display:flex;\n",
              "      gap: 12px;\n",
              "    }\n",
              "\n",
              "    .colab-df-convert {\n",
              "      background-color: #E8F0FE;\n",
              "      border: none;\n",
              "      border-radius: 50%;\n",
              "      cursor: pointer;\n",
              "      display: none;\n",
              "      fill: #1967D2;\n",
              "      height: 32px;\n",
              "      padding: 0 0 0 0;\n",
              "      width: 32px;\n",
              "    }\n",
              "\n",
              "    .colab-df-convert:hover {\n",
              "      background-color: #E2EBFA;\n",
              "      box-shadow: 0px 1px 2px rgba(60, 64, 67, 0.3), 0px 1px 3px 1px rgba(60, 64, 67, 0.15);\n",
              "      fill: #174EA6;\n",
              "    }\n",
              "\n",
              "    .colab-df-buttons div {\n",
              "      margin-bottom: 4px;\n",
              "    }\n",
              "\n",
              "    [theme=dark] .colab-df-convert {\n",
              "      background-color: #3B4455;\n",
              "      fill: #D2E3FC;\n",
              "    }\n",
              "\n",
              "    [theme=dark] .colab-df-convert:hover {\n",
              "      background-color: #434B5C;\n",
              "      box-shadow: 0px 1px 3px 1px rgba(0, 0, 0, 0.15);\n",
              "      filter: drop-shadow(0px 1px 2px rgba(0, 0, 0, 0.3));\n",
              "      fill: #FFFFFF;\n",
              "    }\n",
              "  </style>\n",
              "\n",
              "    <script>\n",
              "      const buttonEl =\n",
              "        document.querySelector('#df-3dddcf37-322e-4549-a372-8038f6416098 button.colab-df-convert');\n",
              "      buttonEl.style.display =\n",
              "        google.colab.kernel.accessAllowed ? 'block' : 'none';\n",
              "\n",
              "      async function convertToInteractive(key) {\n",
              "        const element = document.querySelector('#df-3dddcf37-322e-4549-a372-8038f6416098');\n",
              "        const dataTable =\n",
              "          await google.colab.kernel.invokeFunction('convertToInteractive',\n",
              "                                                    [key], {});\n",
              "        if (!dataTable) return;\n",
              "\n",
              "        const docLinkHtml = 'Like what you see? Visit the ' +\n",
              "          '<a target=\"_blank\" href=https://colab.research.google.com/notebooks/data_table.ipynb>data table notebook</a>'\n",
              "          + ' to learn more about interactive tables.';\n",
              "        element.innerHTML = '';\n",
              "        dataTable['output_type'] = 'display_data';\n",
              "        await google.colab.output.renderOutput(dataTable, element);\n",
              "        const docLink = document.createElement('div');\n",
              "        docLink.innerHTML = docLinkHtml;\n",
              "        element.appendChild(docLink);\n",
              "      }\n",
              "    </script>\n",
              "  </div>\n",
              "\n",
              "\n",
              "    <div id=\"df-b370c9c7-d9fc-4657-aa20-3f6e8319fd27\">\n",
              "      <button class=\"colab-df-quickchart\" onclick=\"quickchart('df-b370c9c7-d9fc-4657-aa20-3f6e8319fd27')\"\n",
              "                title=\"Suggest charts\"\n",
              "                style=\"display:none;\">\n",
              "\n",
              "<svg xmlns=\"http://www.w3.org/2000/svg\" height=\"24px\"viewBox=\"0 0 24 24\"\n",
              "     width=\"24px\">\n",
              "    <g>\n",
              "        <path d=\"M19 3H5c-1.1 0-2 .9-2 2v14c0 1.1.9 2 2 2h14c1.1 0 2-.9 2-2V5c0-1.1-.9-2-2-2zM9 17H7v-7h2v7zm4 0h-2V7h2v10zm4 0h-2v-4h2v4z\"/>\n",
              "    </g>\n",
              "</svg>\n",
              "      </button>\n",
              "\n",
              "<style>\n",
              "  .colab-df-quickchart {\n",
              "      --bg-color: #E8F0FE;\n",
              "      --fill-color: #1967D2;\n",
              "      --hover-bg-color: #E2EBFA;\n",
              "      --hover-fill-color: #174EA6;\n",
              "      --disabled-fill-color: #AAA;\n",
              "      --disabled-bg-color: #DDD;\n",
              "  }\n",
              "\n",
              "  [theme=dark] .colab-df-quickchart {\n",
              "      --bg-color: #3B4455;\n",
              "      --fill-color: #D2E3FC;\n",
              "      --hover-bg-color: #434B5C;\n",
              "      --hover-fill-color: #FFFFFF;\n",
              "      --disabled-bg-color: #3B4455;\n",
              "      --disabled-fill-color: #666;\n",
              "  }\n",
              "\n",
              "  .colab-df-quickchart {\n",
              "    background-color: var(--bg-color);\n",
              "    border: none;\n",
              "    border-radius: 50%;\n",
              "    cursor: pointer;\n",
              "    display: none;\n",
              "    fill: var(--fill-color);\n",
              "    height: 32px;\n",
              "    padding: 0;\n",
              "    width: 32px;\n",
              "  }\n",
              "\n",
              "  .colab-df-quickchart:hover {\n",
              "    background-color: var(--hover-bg-color);\n",
              "    box-shadow: 0 1px 2px rgba(60, 64, 67, 0.3), 0 1px 3px 1px rgba(60, 64, 67, 0.15);\n",
              "    fill: var(--button-hover-fill-color);\n",
              "  }\n",
              "\n",
              "  .colab-df-quickchart-complete:disabled,\n",
              "  .colab-df-quickchart-complete:disabled:hover {\n",
              "    background-color: var(--disabled-bg-color);\n",
              "    fill: var(--disabled-fill-color);\n",
              "    box-shadow: none;\n",
              "  }\n",
              "\n",
              "  .colab-df-spinner {\n",
              "    border: 2px solid var(--fill-color);\n",
              "    border-color: transparent;\n",
              "    border-bottom-color: var(--fill-color);\n",
              "    animation:\n",
              "      spin 1s steps(1) infinite;\n",
              "  }\n",
              "\n",
              "  @keyframes spin {\n",
              "    0% {\n",
              "      border-color: transparent;\n",
              "      border-bottom-color: var(--fill-color);\n",
              "      border-left-color: var(--fill-color);\n",
              "    }\n",
              "    20% {\n",
              "      border-color: transparent;\n",
              "      border-left-color: var(--fill-color);\n",
              "      border-top-color: var(--fill-color);\n",
              "    }\n",
              "    30% {\n",
              "      border-color: transparent;\n",
              "      border-left-color: var(--fill-color);\n",
              "      border-top-color: var(--fill-color);\n",
              "      border-right-color: var(--fill-color);\n",
              "    }\n",
              "    40% {\n",
              "      border-color: transparent;\n",
              "      border-right-color: var(--fill-color);\n",
              "      border-top-color: var(--fill-color);\n",
              "    }\n",
              "    60% {\n",
              "      border-color: transparent;\n",
              "      border-right-color: var(--fill-color);\n",
              "    }\n",
              "    80% {\n",
              "      border-color: transparent;\n",
              "      border-right-color: var(--fill-color);\n",
              "      border-bottom-color: var(--fill-color);\n",
              "    }\n",
              "    90% {\n",
              "      border-color: transparent;\n",
              "      border-bottom-color: var(--fill-color);\n",
              "    }\n",
              "  }\n",
              "</style>\n",
              "\n",
              "      <script>\n",
              "        async function quickchart(key) {\n",
              "          const quickchartButtonEl =\n",
              "            document.querySelector('#' + key + ' button');\n",
              "          quickchartButtonEl.disabled = true;  // To prevent multiple clicks.\n",
              "          quickchartButtonEl.classList.add('colab-df-spinner');\n",
              "          try {\n",
              "            const charts = await google.colab.kernel.invokeFunction(\n",
              "                'suggestCharts', [key], {});\n",
              "          } catch (error) {\n",
              "            console.error('Error during call to suggestCharts:', error);\n",
              "          }\n",
              "          quickchartButtonEl.classList.remove('colab-df-spinner');\n",
              "          quickchartButtonEl.classList.add('colab-df-quickchart-complete');\n",
              "        }\n",
              "        (() => {\n",
              "          let quickchartButtonEl =\n",
              "            document.querySelector('#df-b370c9c7-d9fc-4657-aa20-3f6e8319fd27 button');\n",
              "          quickchartButtonEl.style.display =\n",
              "            google.colab.kernel.accessAllowed ? 'block' : 'none';\n",
              "        })();\n",
              "      </script>\n",
              "    </div>\n",
              "\n",
              "    </div>\n",
              "  </div>\n"
            ],
            "application/vnd.google.colaboratory.intrinsic+json": {
              "type": "dataframe",
              "variable_name": "df",
              "summary": "{\n  \"name\": \"df\",\n  \"rows\": 44898,\n  \"fields\": [\n    {\n      \"column\": \"title\",\n      \"properties\": {\n        \"dtype\": \"string\",\n        \"num_unique_values\": 38729,\n        \"samples\": [\n          \" WATCH: Dem Senator BLASTS Trump, Calls Him A Liar Live On Air\",\n          \"Trump calls for firm response to North Korea, targets Seoul on trade\",\n          \"Zimbabwe army leaves streets a month after Mugabe's ouster\"\n        ],\n        \"semantic_type\": \"\",\n        \"description\": \"\"\n      }\n    },\n    {\n      \"column\": \"text\",\n      \"properties\": {\n        \"dtype\": \"string\",\n        \"num_unique_values\": 38646,\n        \"samples\": [\n          \"It takes one to know one. Turkey just held a referendum that greatly expands the power of their president, Recep Tayyip Erdogan. It passed by a very narrow margin, taking Turkey on its latest step toward brutal dictatorship, and here s Donald Trump, who sources say called Erdogan to congratulate him on  winning  the referendum vote.While we re busy justifying blowing up absolutely nothing in Syria because a brutal dictator used sarin gas on his people, Trump is busy calling someone who s working hard on becoming the region s next brutal dictator to congratulate him on furthering that goal.This referendum, according to The Daily Beast, moves Turkey away from a parliamentary democracy and towards one-person rule. But what he has already done there makes the referendum more of a formality. Erdogan had already managed to form a one-party government   a move that greatly diminishes the voices of opposition.Last year, Erdogan asked Turkey s parliament to redefine the country s anti-extremism law to include politicians, journalists and members of academia. He claimed that  pro-Kurdish  politicians were inciting terrorism, and journalists and academics were spreading the info that allowed the politicians to do so. Therefore, they are all terrorists.Branding press as  the enemy  is something Trump has been trying to do here. As the Washington Post s front page motto says,  Democracy dies in darkness.  This is the darkness.And now, Erdogan is, more or less, the sole ruler of Turkey.But what does Trump care? It wouldn t be surprising to find that he wishes something like that would happen here, too, if for no other reason than it would help cement his overinflated opinion of himself as a great man who is beloved by all, with nobody left to shine a light on the truth, like, oh, say, a free press.The way the Turkey referendum was held has appalled international election monitors. According to them,  voters were not provided with adequate information, opposition voices were muzzled and the rules were changed at the last minute.  In short, this was not a truly democratic process.Good job continuing to support authoritarian rulers over true democracies, Trump. You re about as un-American as it gets.Featured image by Mark Wilson via Getty Images\",\n          \"Donald Trump just got caught lying again and there is video to prove it.When former FBI Director James Comey testified under oath in the Senate on Thursday, he recalled that Trump demanded loyalty from him before he was asked to drop the investigation of Michael Flynn and Trump s ties to Russia. The President said,  I need loyalty, I expect loyalty,  Comey testified.But when asked by ABC reporter Jon Karl if he had demanded Comey s loyalty, Trump denied the whole thing and pretended that he has never demanded loyalty from anyone in his entire life. So he said those things under oath,  Karl began.  Would you be willing to speak under oath to give your version of those events? One hundred percent,  Trump replied.  I didn t say under oath   I hardly know the man. I m not going to say, I want you to pledge allegiance. Who would do that? Who would ask a man to pledge allegiance under oath? I mean, think of it. I hardly know the man. It doesn t make sense. No, I didn t say that, and I didn t say the other. If Trump were to say this under oath he would he would be committing perjury. And CNN proved it by playing video of Trump on the campaign trail in Florida asking people in the crowd to raise their hands and pledge their loyalty to him. Keep in mind that Trump had never met anyone in that audience. But he had several discussions and meetings with Comey. In other words, Comey was not a complete stranger to him. If he was willing to ask a crowd of random people to pledge their allegiance to him, he would certainly be willing to demand loyalty from Comey.Here s the damning video via YouTube.This is yet more proof that Trump is a liar who has zero credibility. He will say anything to save his own ass.Featured image via Olivier Douliery   Pool/Getty Images\",\n          \"WASHINGTON (Reuters) - The U.S. State Department said on Monday Washington was  very concerned  by reports of violence around the Iraqi oil city of Kirkuk, which was seized by Baghdad s forces from Kurds.  We are monitoring the situation closely and call on all parties to coordinate military activities and restore calm,   State Department spokeswoman Heather Nauert said in a statement. \"\n        ],\n        \"semantic_type\": \"\",\n        \"description\": \"\"\n      }\n    },\n    {\n      \"column\": \"subject\",\n      \"properties\": {\n        \"dtype\": \"category\",\n        \"num_unique_values\": 8,\n        \"samples\": [\n          \"politicsNews\",\n          \"worldnews\",\n          \"US_News\"\n        ],\n        \"semantic_type\": \"\",\n        \"description\": \"\"\n      }\n    },\n    {\n      \"column\": \"date\",\n      \"properties\": {\n        \"dtype\": \"category\",\n        \"num_unique_values\": 2397,\n        \"samples\": [\n          \"July 3, 2016\",\n          \"Jul 29, 2015\",\n          \"Nov 28, 2016\"\n        ],\n        \"semantic_type\": \"\",\n        \"description\": \"\"\n      }\n    },\n    {\n      \"column\": \"label\",\n      \"properties\": {\n        \"dtype\": \"number\",\n        \"std\": 0,\n        \"min\": 0,\n        \"max\": 1,\n        \"num_unique_values\": 2,\n        \"samples\": [\n          1,\n          0\n        ],\n        \"semantic_type\": \"\",\n        \"description\": \"\"\n      }\n    }\n  ]\n}"
            }
          },
          "metadata": {},
          "execution_count": 8
        }
      ]
    },
    {
      "cell_type": "code",
      "execution_count": 10,
      "metadata": {
        "id": "eHHKTg0sjlxi"
      },
      "outputs": [],
      "source": [
        "# Select relevant columns\n",
        "df = df[['text', 'label']]  # Use the 'text' column for analysis\n",
        "\n",
        "# Split dataset into training and testing sets\n",
        "X_train, X_test, y_train, y_test = train_test_split(df[\"text\"], df[\"label\"], test_size=0.2, random_state=42)\n"
      ]
    },
    {
      "cell_type": "code",
      "execution_count": 11,
      "metadata": {
        "id": "3etnXBD6joZ6"
      },
      "outputs": [],
      "source": [
        "# Convert text into numerical format using TF-IDF\n",
        "vectorizer = TfidfVectorizer(stop_words=\"english\", max_features=5000)\n",
        "X_train_tfidf = vectorizer.fit_transform(X_train)\n",
        "X_test_tfidf = vectorizer.transform(X_test)"
      ]
    },
    {
      "cell_type": "code",
      "execution_count": 12,
      "metadata": {
        "id": "DDzYULhjCMF0"
      },
      "outputs": [],
      "source": [
        "from sklearn.neighbors import KNeighborsClassifier"
      ]
    },
    {
      "cell_type": "code",
      "source": [
        "from sklearn.preprocessing import StandardScaler\n",
        "st = StandardScaler(with_mean=False)\n",
        "x_train_standard = st.fit_transform(X_train_tfidf)\n",
        "x_test_standard = st.transform(X_test_tfidf)"
      ],
      "metadata": {
        "id": "QmfP_Avbdw1p"
      },
      "execution_count": 13,
      "outputs": []
    },
    {
      "cell_type": "code",
      "execution_count": 14,
      "metadata": {
        "colab": {
          "base_uri": "https://localhost:8080/",
          "height": 80
        },
        "id": "sC9eAQuFCLqc",
        "outputId": "3f890794-c405-4dbb-b914-38d416ca2641"
      },
      "outputs": [
        {
          "output_type": "execute_result",
          "data": {
            "text/plain": [
              "KNeighborsClassifier(n_neighbors=3, p=1, weights='distance')"
            ],
            "text/html": [
              "<style>#sk-container-id-1 {\n",
              "  /* Definition of color scheme common for light and dark mode */\n",
              "  --sklearn-color-text: #000;\n",
              "  --sklearn-color-text-muted: #666;\n",
              "  --sklearn-color-line: gray;\n",
              "  /* Definition of color scheme for unfitted estimators */\n",
              "  --sklearn-color-unfitted-level-0: #fff5e6;\n",
              "  --sklearn-color-unfitted-level-1: #f6e4d2;\n",
              "  --sklearn-color-unfitted-level-2: #ffe0b3;\n",
              "  --sklearn-color-unfitted-level-3: chocolate;\n",
              "  /* Definition of color scheme for fitted estimators */\n",
              "  --sklearn-color-fitted-level-0: #f0f8ff;\n",
              "  --sklearn-color-fitted-level-1: #d4ebff;\n",
              "  --sklearn-color-fitted-level-2: #b3dbfd;\n",
              "  --sklearn-color-fitted-level-3: cornflowerblue;\n",
              "\n",
              "  /* Specific color for light theme */\n",
              "  --sklearn-color-text-on-default-background: var(--sg-text-color, var(--theme-code-foreground, var(--jp-content-font-color1, black)));\n",
              "  --sklearn-color-background: var(--sg-background-color, var(--theme-background, var(--jp-layout-color0, white)));\n",
              "  --sklearn-color-border-box: var(--sg-text-color, var(--theme-code-foreground, var(--jp-content-font-color1, black)));\n",
              "  --sklearn-color-icon: #696969;\n",
              "\n",
              "  @media (prefers-color-scheme: dark) {\n",
              "    /* Redefinition of color scheme for dark theme */\n",
              "    --sklearn-color-text-on-default-background: var(--sg-text-color, var(--theme-code-foreground, var(--jp-content-font-color1, white)));\n",
              "    --sklearn-color-background: var(--sg-background-color, var(--theme-background, var(--jp-layout-color0, #111)));\n",
              "    --sklearn-color-border-box: var(--sg-text-color, var(--theme-code-foreground, var(--jp-content-font-color1, white)));\n",
              "    --sklearn-color-icon: #878787;\n",
              "  }\n",
              "}\n",
              "\n",
              "#sk-container-id-1 {\n",
              "  color: var(--sklearn-color-text);\n",
              "}\n",
              "\n",
              "#sk-container-id-1 pre {\n",
              "  padding: 0;\n",
              "}\n",
              "\n",
              "#sk-container-id-1 input.sk-hidden--visually {\n",
              "  border: 0;\n",
              "  clip: rect(1px 1px 1px 1px);\n",
              "  clip: rect(1px, 1px, 1px, 1px);\n",
              "  height: 1px;\n",
              "  margin: -1px;\n",
              "  overflow: hidden;\n",
              "  padding: 0;\n",
              "  position: absolute;\n",
              "  width: 1px;\n",
              "}\n",
              "\n",
              "#sk-container-id-1 div.sk-dashed-wrapped {\n",
              "  border: 1px dashed var(--sklearn-color-line);\n",
              "  margin: 0 0.4em 0.5em 0.4em;\n",
              "  box-sizing: border-box;\n",
              "  padding-bottom: 0.4em;\n",
              "  background-color: var(--sklearn-color-background);\n",
              "}\n",
              "\n",
              "#sk-container-id-1 div.sk-container {\n",
              "  /* jupyter's `normalize.less` sets `[hidden] { display: none; }`\n",
              "     but bootstrap.min.css set `[hidden] { display: none !important; }`\n",
              "     so we also need the `!important` here to be able to override the\n",
              "     default hidden behavior on the sphinx rendered scikit-learn.org.\n",
              "     See: https://github.com/scikit-learn/scikit-learn/issues/21755 */\n",
              "  display: inline-block !important;\n",
              "  position: relative;\n",
              "}\n",
              "\n",
              "#sk-container-id-1 div.sk-text-repr-fallback {\n",
              "  display: none;\n",
              "}\n",
              "\n",
              "div.sk-parallel-item,\n",
              "div.sk-serial,\n",
              "div.sk-item {\n",
              "  /* draw centered vertical line to link estimators */\n",
              "  background-image: linear-gradient(var(--sklearn-color-text-on-default-background), var(--sklearn-color-text-on-default-background));\n",
              "  background-size: 2px 100%;\n",
              "  background-repeat: no-repeat;\n",
              "  background-position: center center;\n",
              "}\n",
              "\n",
              "/* Parallel-specific style estimator block */\n",
              "\n",
              "#sk-container-id-1 div.sk-parallel-item::after {\n",
              "  content: \"\";\n",
              "  width: 100%;\n",
              "  border-bottom: 2px solid var(--sklearn-color-text-on-default-background);\n",
              "  flex-grow: 1;\n",
              "}\n",
              "\n",
              "#sk-container-id-1 div.sk-parallel {\n",
              "  display: flex;\n",
              "  align-items: stretch;\n",
              "  justify-content: center;\n",
              "  background-color: var(--sklearn-color-background);\n",
              "  position: relative;\n",
              "}\n",
              "\n",
              "#sk-container-id-1 div.sk-parallel-item {\n",
              "  display: flex;\n",
              "  flex-direction: column;\n",
              "}\n",
              "\n",
              "#sk-container-id-1 div.sk-parallel-item:first-child::after {\n",
              "  align-self: flex-end;\n",
              "  width: 50%;\n",
              "}\n",
              "\n",
              "#sk-container-id-1 div.sk-parallel-item:last-child::after {\n",
              "  align-self: flex-start;\n",
              "  width: 50%;\n",
              "}\n",
              "\n",
              "#sk-container-id-1 div.sk-parallel-item:only-child::after {\n",
              "  width: 0;\n",
              "}\n",
              "\n",
              "/* Serial-specific style estimator block */\n",
              "\n",
              "#sk-container-id-1 div.sk-serial {\n",
              "  display: flex;\n",
              "  flex-direction: column;\n",
              "  align-items: center;\n",
              "  background-color: var(--sklearn-color-background);\n",
              "  padding-right: 1em;\n",
              "  padding-left: 1em;\n",
              "}\n",
              "\n",
              "\n",
              "/* Toggleable style: style used for estimator/Pipeline/ColumnTransformer box that is\n",
              "clickable and can be expanded/collapsed.\n",
              "- Pipeline and ColumnTransformer use this feature and define the default style\n",
              "- Estimators will overwrite some part of the style using the `sk-estimator` class\n",
              "*/\n",
              "\n",
              "/* Pipeline and ColumnTransformer style (default) */\n",
              "\n",
              "#sk-container-id-1 div.sk-toggleable {\n",
              "  /* Default theme specific background. It is overwritten whether we have a\n",
              "  specific estimator or a Pipeline/ColumnTransformer */\n",
              "  background-color: var(--sklearn-color-background);\n",
              "}\n",
              "\n",
              "/* Toggleable label */\n",
              "#sk-container-id-1 label.sk-toggleable__label {\n",
              "  cursor: pointer;\n",
              "  display: flex;\n",
              "  width: 100%;\n",
              "  margin-bottom: 0;\n",
              "  padding: 0.5em;\n",
              "  box-sizing: border-box;\n",
              "  text-align: center;\n",
              "  align-items: start;\n",
              "  justify-content: space-between;\n",
              "  gap: 0.5em;\n",
              "}\n",
              "\n",
              "#sk-container-id-1 label.sk-toggleable__label .caption {\n",
              "  font-size: 0.6rem;\n",
              "  font-weight: lighter;\n",
              "  color: var(--sklearn-color-text-muted);\n",
              "}\n",
              "\n",
              "#sk-container-id-1 label.sk-toggleable__label-arrow:before {\n",
              "  /* Arrow on the left of the label */\n",
              "  content: \"▸\";\n",
              "  float: left;\n",
              "  margin-right: 0.25em;\n",
              "  color: var(--sklearn-color-icon);\n",
              "}\n",
              "\n",
              "#sk-container-id-1 label.sk-toggleable__label-arrow:hover:before {\n",
              "  color: var(--sklearn-color-text);\n",
              "}\n",
              "\n",
              "/* Toggleable content - dropdown */\n",
              "\n",
              "#sk-container-id-1 div.sk-toggleable__content {\n",
              "  max-height: 0;\n",
              "  max-width: 0;\n",
              "  overflow: hidden;\n",
              "  text-align: left;\n",
              "  /* unfitted */\n",
              "  background-color: var(--sklearn-color-unfitted-level-0);\n",
              "}\n",
              "\n",
              "#sk-container-id-1 div.sk-toggleable__content.fitted {\n",
              "  /* fitted */\n",
              "  background-color: var(--sklearn-color-fitted-level-0);\n",
              "}\n",
              "\n",
              "#sk-container-id-1 div.sk-toggleable__content pre {\n",
              "  margin: 0.2em;\n",
              "  border-radius: 0.25em;\n",
              "  color: var(--sklearn-color-text);\n",
              "  /* unfitted */\n",
              "  background-color: var(--sklearn-color-unfitted-level-0);\n",
              "}\n",
              "\n",
              "#sk-container-id-1 div.sk-toggleable__content.fitted pre {\n",
              "  /* unfitted */\n",
              "  background-color: var(--sklearn-color-fitted-level-0);\n",
              "}\n",
              "\n",
              "#sk-container-id-1 input.sk-toggleable__control:checked~div.sk-toggleable__content {\n",
              "  /* Expand drop-down */\n",
              "  max-height: 200px;\n",
              "  max-width: 100%;\n",
              "  overflow: auto;\n",
              "}\n",
              "\n",
              "#sk-container-id-1 input.sk-toggleable__control:checked~label.sk-toggleable__label-arrow:before {\n",
              "  content: \"▾\";\n",
              "}\n",
              "\n",
              "/* Pipeline/ColumnTransformer-specific style */\n",
              "\n",
              "#sk-container-id-1 div.sk-label input.sk-toggleable__control:checked~label.sk-toggleable__label {\n",
              "  color: var(--sklearn-color-text);\n",
              "  background-color: var(--sklearn-color-unfitted-level-2);\n",
              "}\n",
              "\n",
              "#sk-container-id-1 div.sk-label.fitted input.sk-toggleable__control:checked~label.sk-toggleable__label {\n",
              "  background-color: var(--sklearn-color-fitted-level-2);\n",
              "}\n",
              "\n",
              "/* Estimator-specific style */\n",
              "\n",
              "/* Colorize estimator box */\n",
              "#sk-container-id-1 div.sk-estimator input.sk-toggleable__control:checked~label.sk-toggleable__label {\n",
              "  /* unfitted */\n",
              "  background-color: var(--sklearn-color-unfitted-level-2);\n",
              "}\n",
              "\n",
              "#sk-container-id-1 div.sk-estimator.fitted input.sk-toggleable__control:checked~label.sk-toggleable__label {\n",
              "  /* fitted */\n",
              "  background-color: var(--sklearn-color-fitted-level-2);\n",
              "}\n",
              "\n",
              "#sk-container-id-1 div.sk-label label.sk-toggleable__label,\n",
              "#sk-container-id-1 div.sk-label label {\n",
              "  /* The background is the default theme color */\n",
              "  color: var(--sklearn-color-text-on-default-background);\n",
              "}\n",
              "\n",
              "/* On hover, darken the color of the background */\n",
              "#sk-container-id-1 div.sk-label:hover label.sk-toggleable__label {\n",
              "  color: var(--sklearn-color-text);\n",
              "  background-color: var(--sklearn-color-unfitted-level-2);\n",
              "}\n",
              "\n",
              "/* Label box, darken color on hover, fitted */\n",
              "#sk-container-id-1 div.sk-label.fitted:hover label.sk-toggleable__label.fitted {\n",
              "  color: var(--sklearn-color-text);\n",
              "  background-color: var(--sklearn-color-fitted-level-2);\n",
              "}\n",
              "\n",
              "/* Estimator label */\n",
              "\n",
              "#sk-container-id-1 div.sk-label label {\n",
              "  font-family: monospace;\n",
              "  font-weight: bold;\n",
              "  display: inline-block;\n",
              "  line-height: 1.2em;\n",
              "}\n",
              "\n",
              "#sk-container-id-1 div.sk-label-container {\n",
              "  text-align: center;\n",
              "}\n",
              "\n",
              "/* Estimator-specific */\n",
              "#sk-container-id-1 div.sk-estimator {\n",
              "  font-family: monospace;\n",
              "  border: 1px dotted var(--sklearn-color-border-box);\n",
              "  border-radius: 0.25em;\n",
              "  box-sizing: border-box;\n",
              "  margin-bottom: 0.5em;\n",
              "  /* unfitted */\n",
              "  background-color: var(--sklearn-color-unfitted-level-0);\n",
              "}\n",
              "\n",
              "#sk-container-id-1 div.sk-estimator.fitted {\n",
              "  /* fitted */\n",
              "  background-color: var(--sklearn-color-fitted-level-0);\n",
              "}\n",
              "\n",
              "/* on hover */\n",
              "#sk-container-id-1 div.sk-estimator:hover {\n",
              "  /* unfitted */\n",
              "  background-color: var(--sklearn-color-unfitted-level-2);\n",
              "}\n",
              "\n",
              "#sk-container-id-1 div.sk-estimator.fitted:hover {\n",
              "  /* fitted */\n",
              "  background-color: var(--sklearn-color-fitted-level-2);\n",
              "}\n",
              "\n",
              "/* Specification for estimator info (e.g. \"i\" and \"?\") */\n",
              "\n",
              "/* Common style for \"i\" and \"?\" */\n",
              "\n",
              ".sk-estimator-doc-link,\n",
              "a:link.sk-estimator-doc-link,\n",
              "a:visited.sk-estimator-doc-link {\n",
              "  float: right;\n",
              "  font-size: smaller;\n",
              "  line-height: 1em;\n",
              "  font-family: monospace;\n",
              "  background-color: var(--sklearn-color-background);\n",
              "  border-radius: 1em;\n",
              "  height: 1em;\n",
              "  width: 1em;\n",
              "  text-decoration: none !important;\n",
              "  margin-left: 0.5em;\n",
              "  text-align: center;\n",
              "  /* unfitted */\n",
              "  border: var(--sklearn-color-unfitted-level-1) 1pt solid;\n",
              "  color: var(--sklearn-color-unfitted-level-1);\n",
              "}\n",
              "\n",
              ".sk-estimator-doc-link.fitted,\n",
              "a:link.sk-estimator-doc-link.fitted,\n",
              "a:visited.sk-estimator-doc-link.fitted {\n",
              "  /* fitted */\n",
              "  border: var(--sklearn-color-fitted-level-1) 1pt solid;\n",
              "  color: var(--sklearn-color-fitted-level-1);\n",
              "}\n",
              "\n",
              "/* On hover */\n",
              "div.sk-estimator:hover .sk-estimator-doc-link:hover,\n",
              ".sk-estimator-doc-link:hover,\n",
              "div.sk-label-container:hover .sk-estimator-doc-link:hover,\n",
              ".sk-estimator-doc-link:hover {\n",
              "  /* unfitted */\n",
              "  background-color: var(--sklearn-color-unfitted-level-3);\n",
              "  color: var(--sklearn-color-background);\n",
              "  text-decoration: none;\n",
              "}\n",
              "\n",
              "div.sk-estimator.fitted:hover .sk-estimator-doc-link.fitted:hover,\n",
              ".sk-estimator-doc-link.fitted:hover,\n",
              "div.sk-label-container:hover .sk-estimator-doc-link.fitted:hover,\n",
              ".sk-estimator-doc-link.fitted:hover {\n",
              "  /* fitted */\n",
              "  background-color: var(--sklearn-color-fitted-level-3);\n",
              "  color: var(--sklearn-color-background);\n",
              "  text-decoration: none;\n",
              "}\n",
              "\n",
              "/* Span, style for the box shown on hovering the info icon */\n",
              ".sk-estimator-doc-link span {\n",
              "  display: none;\n",
              "  z-index: 9999;\n",
              "  position: relative;\n",
              "  font-weight: normal;\n",
              "  right: .2ex;\n",
              "  padding: .5ex;\n",
              "  margin: .5ex;\n",
              "  width: min-content;\n",
              "  min-width: 20ex;\n",
              "  max-width: 50ex;\n",
              "  color: var(--sklearn-color-text);\n",
              "  box-shadow: 2pt 2pt 4pt #999;\n",
              "  /* unfitted */\n",
              "  background: var(--sklearn-color-unfitted-level-0);\n",
              "  border: .5pt solid var(--sklearn-color-unfitted-level-3);\n",
              "}\n",
              "\n",
              ".sk-estimator-doc-link.fitted span {\n",
              "  /* fitted */\n",
              "  background: var(--sklearn-color-fitted-level-0);\n",
              "  border: var(--sklearn-color-fitted-level-3);\n",
              "}\n",
              "\n",
              ".sk-estimator-doc-link:hover span {\n",
              "  display: block;\n",
              "}\n",
              "\n",
              "/* \"?\"-specific style due to the `<a>` HTML tag */\n",
              "\n",
              "#sk-container-id-1 a.estimator_doc_link {\n",
              "  float: right;\n",
              "  font-size: 1rem;\n",
              "  line-height: 1em;\n",
              "  font-family: monospace;\n",
              "  background-color: var(--sklearn-color-background);\n",
              "  border-radius: 1rem;\n",
              "  height: 1rem;\n",
              "  width: 1rem;\n",
              "  text-decoration: none;\n",
              "  /* unfitted */\n",
              "  color: var(--sklearn-color-unfitted-level-1);\n",
              "  border: var(--sklearn-color-unfitted-level-1) 1pt solid;\n",
              "}\n",
              "\n",
              "#sk-container-id-1 a.estimator_doc_link.fitted {\n",
              "  /* fitted */\n",
              "  border: var(--sklearn-color-fitted-level-1) 1pt solid;\n",
              "  color: var(--sklearn-color-fitted-level-1);\n",
              "}\n",
              "\n",
              "/* On hover */\n",
              "#sk-container-id-1 a.estimator_doc_link:hover {\n",
              "  /* unfitted */\n",
              "  background-color: var(--sklearn-color-unfitted-level-3);\n",
              "  color: var(--sklearn-color-background);\n",
              "  text-decoration: none;\n",
              "}\n",
              "\n",
              "#sk-container-id-1 a.estimator_doc_link.fitted:hover {\n",
              "  /* fitted */\n",
              "  background-color: var(--sklearn-color-fitted-level-3);\n",
              "}\n",
              "</style><div id=\"sk-container-id-1\" class=\"sk-top-container\"><div class=\"sk-text-repr-fallback\"><pre>KNeighborsClassifier(n_neighbors=3, p=1, weights=&#x27;distance&#x27;)</pre><b>In a Jupyter environment, please rerun this cell to show the HTML representation or trust the notebook. <br />On GitHub, the HTML representation is unable to render, please try loading this page with nbviewer.org.</b></div><div class=\"sk-container\" hidden><div class=\"sk-item\"><div class=\"sk-estimator fitted sk-toggleable\"><input class=\"sk-toggleable__control sk-hidden--visually\" id=\"sk-estimator-id-1\" type=\"checkbox\" checked><label for=\"sk-estimator-id-1\" class=\"sk-toggleable__label fitted sk-toggleable__label-arrow\"><div><div>KNeighborsClassifier</div></div><div><a class=\"sk-estimator-doc-link fitted\" rel=\"noreferrer\" target=\"_blank\" href=\"https://scikit-learn.org/1.6/modules/generated/sklearn.neighbors.KNeighborsClassifier.html\">?<span>Documentation for KNeighborsClassifier</span></a><span class=\"sk-estimator-doc-link fitted\">i<span>Fitted</span></span></div></label><div class=\"sk-toggleable__content fitted\"><pre>KNeighborsClassifier(n_neighbors=3, p=1, weights=&#x27;distance&#x27;)</pre></div> </div></div></div></div>"
            ]
          },
          "metadata": {},
          "execution_count": 14
        }
      ],
      "source": [
        "k = KNeighborsClassifier(n_neighbors=3,weights='distance',p=1)\n",
        "k.fit(x_train_standard, y_train)"
      ]
    },
    {
      "cell_type": "code",
      "execution_count": 15,
      "metadata": {
        "id": "V4XrAGipCVM5"
      },
      "outputs": [],
      "source": [
        "pred = k.predict(x_test_standard)"
      ]
    },
    {
      "cell_type": "code",
      "execution_count": 16,
      "metadata": {
        "colab": {
          "base_uri": "https://localhost:8080/"
        },
        "id": "JDsRQrFlCfoX",
        "outputId": "91edf54f-6f2d-420c-d3f0-40ddaec870ad"
      },
      "outputs": [
        {
          "output_type": "stream",
          "name": "stdout",
          "text": [
            "0.5244988864142539\n",
            "\n",
            "Classification Report:\n",
            "               precision    recall  f1-score   support\n",
            "\n",
            "           0       0.52      1.00      0.69      4710\n",
            "           1       0.00      0.00      0.00      4270\n",
            "\n",
            "    accuracy                           0.52      8980\n",
            "   macro avg       0.26      0.50      0.34      8980\n",
            "weighted avg       0.28      0.52      0.36      8980\n",
            "\n"
          ]
        },
        {
          "output_type": "stream",
          "name": "stderr",
          "text": [
            "/usr/local/lib/python3.12/dist-packages/sklearn/metrics/_classification.py:1565: UndefinedMetricWarning: Precision is ill-defined and being set to 0.0 in labels with no predicted samples. Use `zero_division` parameter to control this behavior.\n",
            "  _warn_prf(average, modifier, f\"{metric.capitalize()} is\", len(result))\n",
            "/usr/local/lib/python3.12/dist-packages/sklearn/metrics/_classification.py:1565: UndefinedMetricWarning: Precision is ill-defined and being set to 0.0 in labels with no predicted samples. Use `zero_division` parameter to control this behavior.\n",
            "  _warn_prf(average, modifier, f\"{metric.capitalize()} is\", len(result))\n",
            "/usr/local/lib/python3.12/dist-packages/sklearn/metrics/_classification.py:1565: UndefinedMetricWarning: Precision is ill-defined and being set to 0.0 in labels with no predicted samples. Use `zero_division` parameter to control this behavior.\n",
            "  _warn_prf(average, modifier, f\"{metric.capitalize()} is\", len(result))\n"
          ]
        }
      ],
      "source": [
        "accuracy = accuracy_score(y_test, pred)\n",
        "print(accuracy)\n",
        "print(\"\\nClassification Report:\\n\", classification_report(y_test, pred))"
      ]
    },
    {
      "cell_type": "code",
      "execution_count": 17,
      "metadata": {
        "id": "nc_81EC5jwsT",
        "colab": {
          "base_uri": "https://localhost:8080/",
          "height": 80
        },
        "outputId": "152bb7ff-c348-4b11-b8b6-aff6d38eeac8"
      },
      "outputs": [
        {
          "output_type": "execute_result",
          "data": {
            "text/plain": [
              "LogisticRegression()"
            ],
            "text/html": [
              "<style>#sk-container-id-2 {\n",
              "  /* Definition of color scheme common for light and dark mode */\n",
              "  --sklearn-color-text: #000;\n",
              "  --sklearn-color-text-muted: #666;\n",
              "  --sklearn-color-line: gray;\n",
              "  /* Definition of color scheme for unfitted estimators */\n",
              "  --sklearn-color-unfitted-level-0: #fff5e6;\n",
              "  --sklearn-color-unfitted-level-1: #f6e4d2;\n",
              "  --sklearn-color-unfitted-level-2: #ffe0b3;\n",
              "  --sklearn-color-unfitted-level-3: chocolate;\n",
              "  /* Definition of color scheme for fitted estimators */\n",
              "  --sklearn-color-fitted-level-0: #f0f8ff;\n",
              "  --sklearn-color-fitted-level-1: #d4ebff;\n",
              "  --sklearn-color-fitted-level-2: #b3dbfd;\n",
              "  --sklearn-color-fitted-level-3: cornflowerblue;\n",
              "\n",
              "  /* Specific color for light theme */\n",
              "  --sklearn-color-text-on-default-background: var(--sg-text-color, var(--theme-code-foreground, var(--jp-content-font-color1, black)));\n",
              "  --sklearn-color-background: var(--sg-background-color, var(--theme-background, var(--jp-layout-color0, white)));\n",
              "  --sklearn-color-border-box: var(--sg-text-color, var(--theme-code-foreground, var(--jp-content-font-color1, black)));\n",
              "  --sklearn-color-icon: #696969;\n",
              "\n",
              "  @media (prefers-color-scheme: dark) {\n",
              "    /* Redefinition of color scheme for dark theme */\n",
              "    --sklearn-color-text-on-default-background: var(--sg-text-color, var(--theme-code-foreground, var(--jp-content-font-color1, white)));\n",
              "    --sklearn-color-background: var(--sg-background-color, var(--theme-background, var(--jp-layout-color0, #111)));\n",
              "    --sklearn-color-border-box: var(--sg-text-color, var(--theme-code-foreground, var(--jp-content-font-color1, white)));\n",
              "    --sklearn-color-icon: #878787;\n",
              "  }\n",
              "}\n",
              "\n",
              "#sk-container-id-2 {\n",
              "  color: var(--sklearn-color-text);\n",
              "}\n",
              "\n",
              "#sk-container-id-2 pre {\n",
              "  padding: 0;\n",
              "}\n",
              "\n",
              "#sk-container-id-2 input.sk-hidden--visually {\n",
              "  border: 0;\n",
              "  clip: rect(1px 1px 1px 1px);\n",
              "  clip: rect(1px, 1px, 1px, 1px);\n",
              "  height: 1px;\n",
              "  margin: -1px;\n",
              "  overflow: hidden;\n",
              "  padding: 0;\n",
              "  position: absolute;\n",
              "  width: 1px;\n",
              "}\n",
              "\n",
              "#sk-container-id-2 div.sk-dashed-wrapped {\n",
              "  border: 1px dashed var(--sklearn-color-line);\n",
              "  margin: 0 0.4em 0.5em 0.4em;\n",
              "  box-sizing: border-box;\n",
              "  padding-bottom: 0.4em;\n",
              "  background-color: var(--sklearn-color-background);\n",
              "}\n",
              "\n",
              "#sk-container-id-2 div.sk-container {\n",
              "  /* jupyter's `normalize.less` sets `[hidden] { display: none; }`\n",
              "     but bootstrap.min.css set `[hidden] { display: none !important; }`\n",
              "     so we also need the `!important` here to be able to override the\n",
              "     default hidden behavior on the sphinx rendered scikit-learn.org.\n",
              "     See: https://github.com/scikit-learn/scikit-learn/issues/21755 */\n",
              "  display: inline-block !important;\n",
              "  position: relative;\n",
              "}\n",
              "\n",
              "#sk-container-id-2 div.sk-text-repr-fallback {\n",
              "  display: none;\n",
              "}\n",
              "\n",
              "div.sk-parallel-item,\n",
              "div.sk-serial,\n",
              "div.sk-item {\n",
              "  /* draw centered vertical line to link estimators */\n",
              "  background-image: linear-gradient(var(--sklearn-color-text-on-default-background), var(--sklearn-color-text-on-default-background));\n",
              "  background-size: 2px 100%;\n",
              "  background-repeat: no-repeat;\n",
              "  background-position: center center;\n",
              "}\n",
              "\n",
              "/* Parallel-specific style estimator block */\n",
              "\n",
              "#sk-container-id-2 div.sk-parallel-item::after {\n",
              "  content: \"\";\n",
              "  width: 100%;\n",
              "  border-bottom: 2px solid var(--sklearn-color-text-on-default-background);\n",
              "  flex-grow: 1;\n",
              "}\n",
              "\n",
              "#sk-container-id-2 div.sk-parallel {\n",
              "  display: flex;\n",
              "  align-items: stretch;\n",
              "  justify-content: center;\n",
              "  background-color: var(--sklearn-color-background);\n",
              "  position: relative;\n",
              "}\n",
              "\n",
              "#sk-container-id-2 div.sk-parallel-item {\n",
              "  display: flex;\n",
              "  flex-direction: column;\n",
              "}\n",
              "\n",
              "#sk-container-id-2 div.sk-parallel-item:first-child::after {\n",
              "  align-self: flex-end;\n",
              "  width: 50%;\n",
              "}\n",
              "\n",
              "#sk-container-id-2 div.sk-parallel-item:last-child::after {\n",
              "  align-self: flex-start;\n",
              "  width: 50%;\n",
              "}\n",
              "\n",
              "#sk-container-id-2 div.sk-parallel-item:only-child::after {\n",
              "  width: 0;\n",
              "}\n",
              "\n",
              "/* Serial-specific style estimator block */\n",
              "\n",
              "#sk-container-id-2 div.sk-serial {\n",
              "  display: flex;\n",
              "  flex-direction: column;\n",
              "  align-items: center;\n",
              "  background-color: var(--sklearn-color-background);\n",
              "  padding-right: 1em;\n",
              "  padding-left: 1em;\n",
              "}\n",
              "\n",
              "\n",
              "/* Toggleable style: style used for estimator/Pipeline/ColumnTransformer box that is\n",
              "clickable and can be expanded/collapsed.\n",
              "- Pipeline and ColumnTransformer use this feature and define the default style\n",
              "- Estimators will overwrite some part of the style using the `sk-estimator` class\n",
              "*/\n",
              "\n",
              "/* Pipeline and ColumnTransformer style (default) */\n",
              "\n",
              "#sk-container-id-2 div.sk-toggleable {\n",
              "  /* Default theme specific background. It is overwritten whether we have a\n",
              "  specific estimator or a Pipeline/ColumnTransformer */\n",
              "  background-color: var(--sklearn-color-background);\n",
              "}\n",
              "\n",
              "/* Toggleable label */\n",
              "#sk-container-id-2 label.sk-toggleable__label {\n",
              "  cursor: pointer;\n",
              "  display: flex;\n",
              "  width: 100%;\n",
              "  margin-bottom: 0;\n",
              "  padding: 0.5em;\n",
              "  box-sizing: border-box;\n",
              "  text-align: center;\n",
              "  align-items: start;\n",
              "  justify-content: space-between;\n",
              "  gap: 0.5em;\n",
              "}\n",
              "\n",
              "#sk-container-id-2 label.sk-toggleable__label .caption {\n",
              "  font-size: 0.6rem;\n",
              "  font-weight: lighter;\n",
              "  color: var(--sklearn-color-text-muted);\n",
              "}\n",
              "\n",
              "#sk-container-id-2 label.sk-toggleable__label-arrow:before {\n",
              "  /* Arrow on the left of the label */\n",
              "  content: \"▸\";\n",
              "  float: left;\n",
              "  margin-right: 0.25em;\n",
              "  color: var(--sklearn-color-icon);\n",
              "}\n",
              "\n",
              "#sk-container-id-2 label.sk-toggleable__label-arrow:hover:before {\n",
              "  color: var(--sklearn-color-text);\n",
              "}\n",
              "\n",
              "/* Toggleable content - dropdown */\n",
              "\n",
              "#sk-container-id-2 div.sk-toggleable__content {\n",
              "  max-height: 0;\n",
              "  max-width: 0;\n",
              "  overflow: hidden;\n",
              "  text-align: left;\n",
              "  /* unfitted */\n",
              "  background-color: var(--sklearn-color-unfitted-level-0);\n",
              "}\n",
              "\n",
              "#sk-container-id-2 div.sk-toggleable__content.fitted {\n",
              "  /* fitted */\n",
              "  background-color: var(--sklearn-color-fitted-level-0);\n",
              "}\n",
              "\n",
              "#sk-container-id-2 div.sk-toggleable__content pre {\n",
              "  margin: 0.2em;\n",
              "  border-radius: 0.25em;\n",
              "  color: var(--sklearn-color-text);\n",
              "  /* unfitted */\n",
              "  background-color: var(--sklearn-color-unfitted-level-0);\n",
              "}\n",
              "\n",
              "#sk-container-id-2 div.sk-toggleable__content.fitted pre {\n",
              "  /* unfitted */\n",
              "  background-color: var(--sklearn-color-fitted-level-0);\n",
              "}\n",
              "\n",
              "#sk-container-id-2 input.sk-toggleable__control:checked~div.sk-toggleable__content {\n",
              "  /* Expand drop-down */\n",
              "  max-height: 200px;\n",
              "  max-width: 100%;\n",
              "  overflow: auto;\n",
              "}\n",
              "\n",
              "#sk-container-id-2 input.sk-toggleable__control:checked~label.sk-toggleable__label-arrow:before {\n",
              "  content: \"▾\";\n",
              "}\n",
              "\n",
              "/* Pipeline/ColumnTransformer-specific style */\n",
              "\n",
              "#sk-container-id-2 div.sk-label input.sk-toggleable__control:checked~label.sk-toggleable__label {\n",
              "  color: var(--sklearn-color-text);\n",
              "  background-color: var(--sklearn-color-unfitted-level-2);\n",
              "}\n",
              "\n",
              "#sk-container-id-2 div.sk-label.fitted input.sk-toggleable__control:checked~label.sk-toggleable__label {\n",
              "  background-color: var(--sklearn-color-fitted-level-2);\n",
              "}\n",
              "\n",
              "/* Estimator-specific style */\n",
              "\n",
              "/* Colorize estimator box */\n",
              "#sk-container-id-2 div.sk-estimator input.sk-toggleable__control:checked~label.sk-toggleable__label {\n",
              "  /* unfitted */\n",
              "  background-color: var(--sklearn-color-unfitted-level-2);\n",
              "}\n",
              "\n",
              "#sk-container-id-2 div.sk-estimator.fitted input.sk-toggleable__control:checked~label.sk-toggleable__label {\n",
              "  /* fitted */\n",
              "  background-color: var(--sklearn-color-fitted-level-2);\n",
              "}\n",
              "\n",
              "#sk-container-id-2 div.sk-label label.sk-toggleable__label,\n",
              "#sk-container-id-2 div.sk-label label {\n",
              "  /* The background is the default theme color */\n",
              "  color: var(--sklearn-color-text-on-default-background);\n",
              "}\n",
              "\n",
              "/* On hover, darken the color of the background */\n",
              "#sk-container-id-2 div.sk-label:hover label.sk-toggleable__label {\n",
              "  color: var(--sklearn-color-text);\n",
              "  background-color: var(--sklearn-color-unfitted-level-2);\n",
              "}\n",
              "\n",
              "/* Label box, darken color on hover, fitted */\n",
              "#sk-container-id-2 div.sk-label.fitted:hover label.sk-toggleable__label.fitted {\n",
              "  color: var(--sklearn-color-text);\n",
              "  background-color: var(--sklearn-color-fitted-level-2);\n",
              "}\n",
              "\n",
              "/* Estimator label */\n",
              "\n",
              "#sk-container-id-2 div.sk-label label {\n",
              "  font-family: monospace;\n",
              "  font-weight: bold;\n",
              "  display: inline-block;\n",
              "  line-height: 1.2em;\n",
              "}\n",
              "\n",
              "#sk-container-id-2 div.sk-label-container {\n",
              "  text-align: center;\n",
              "}\n",
              "\n",
              "/* Estimator-specific */\n",
              "#sk-container-id-2 div.sk-estimator {\n",
              "  font-family: monospace;\n",
              "  border: 1px dotted var(--sklearn-color-border-box);\n",
              "  border-radius: 0.25em;\n",
              "  box-sizing: border-box;\n",
              "  margin-bottom: 0.5em;\n",
              "  /* unfitted */\n",
              "  background-color: var(--sklearn-color-unfitted-level-0);\n",
              "}\n",
              "\n",
              "#sk-container-id-2 div.sk-estimator.fitted {\n",
              "  /* fitted */\n",
              "  background-color: var(--sklearn-color-fitted-level-0);\n",
              "}\n",
              "\n",
              "/* on hover */\n",
              "#sk-container-id-2 div.sk-estimator:hover {\n",
              "  /* unfitted */\n",
              "  background-color: var(--sklearn-color-unfitted-level-2);\n",
              "}\n",
              "\n",
              "#sk-container-id-2 div.sk-estimator.fitted:hover {\n",
              "  /* fitted */\n",
              "  background-color: var(--sklearn-color-fitted-level-2);\n",
              "}\n",
              "\n",
              "/* Specification for estimator info (e.g. \"i\" and \"?\") */\n",
              "\n",
              "/* Common style for \"i\" and \"?\" */\n",
              "\n",
              ".sk-estimator-doc-link,\n",
              "a:link.sk-estimator-doc-link,\n",
              "a:visited.sk-estimator-doc-link {\n",
              "  float: right;\n",
              "  font-size: smaller;\n",
              "  line-height: 1em;\n",
              "  font-family: monospace;\n",
              "  background-color: var(--sklearn-color-background);\n",
              "  border-radius: 1em;\n",
              "  height: 1em;\n",
              "  width: 1em;\n",
              "  text-decoration: none !important;\n",
              "  margin-left: 0.5em;\n",
              "  text-align: center;\n",
              "  /* unfitted */\n",
              "  border: var(--sklearn-color-unfitted-level-1) 1pt solid;\n",
              "  color: var(--sklearn-color-unfitted-level-1);\n",
              "}\n",
              "\n",
              ".sk-estimator-doc-link.fitted,\n",
              "a:link.sk-estimator-doc-link.fitted,\n",
              "a:visited.sk-estimator-doc-link.fitted {\n",
              "  /* fitted */\n",
              "  border: var(--sklearn-color-fitted-level-1) 1pt solid;\n",
              "  color: var(--sklearn-color-fitted-level-1);\n",
              "}\n",
              "\n",
              "/* On hover */\n",
              "div.sk-estimator:hover .sk-estimator-doc-link:hover,\n",
              ".sk-estimator-doc-link:hover,\n",
              "div.sk-label-container:hover .sk-estimator-doc-link:hover,\n",
              ".sk-estimator-doc-link:hover {\n",
              "  /* unfitted */\n",
              "  background-color: var(--sklearn-color-unfitted-level-3);\n",
              "  color: var(--sklearn-color-background);\n",
              "  text-decoration: none;\n",
              "}\n",
              "\n",
              "div.sk-estimator.fitted:hover .sk-estimator-doc-link.fitted:hover,\n",
              ".sk-estimator-doc-link.fitted:hover,\n",
              "div.sk-label-container:hover .sk-estimator-doc-link.fitted:hover,\n",
              ".sk-estimator-doc-link.fitted:hover {\n",
              "  /* fitted */\n",
              "  background-color: var(--sklearn-color-fitted-level-3);\n",
              "  color: var(--sklearn-color-background);\n",
              "  text-decoration: none;\n",
              "}\n",
              "\n",
              "/* Span, style for the box shown on hovering the info icon */\n",
              ".sk-estimator-doc-link span {\n",
              "  display: none;\n",
              "  z-index: 9999;\n",
              "  position: relative;\n",
              "  font-weight: normal;\n",
              "  right: .2ex;\n",
              "  padding: .5ex;\n",
              "  margin: .5ex;\n",
              "  width: min-content;\n",
              "  min-width: 20ex;\n",
              "  max-width: 50ex;\n",
              "  color: var(--sklearn-color-text);\n",
              "  box-shadow: 2pt 2pt 4pt #999;\n",
              "  /* unfitted */\n",
              "  background: var(--sklearn-color-unfitted-level-0);\n",
              "  border: .5pt solid var(--sklearn-color-unfitted-level-3);\n",
              "}\n",
              "\n",
              ".sk-estimator-doc-link.fitted span {\n",
              "  /* fitted */\n",
              "  background: var(--sklearn-color-fitted-level-0);\n",
              "  border: var(--sklearn-color-fitted-level-3);\n",
              "}\n",
              "\n",
              ".sk-estimator-doc-link:hover span {\n",
              "  display: block;\n",
              "}\n",
              "\n",
              "/* \"?\"-specific style due to the `<a>` HTML tag */\n",
              "\n",
              "#sk-container-id-2 a.estimator_doc_link {\n",
              "  float: right;\n",
              "  font-size: 1rem;\n",
              "  line-height: 1em;\n",
              "  font-family: monospace;\n",
              "  background-color: var(--sklearn-color-background);\n",
              "  border-radius: 1rem;\n",
              "  height: 1rem;\n",
              "  width: 1rem;\n",
              "  text-decoration: none;\n",
              "  /* unfitted */\n",
              "  color: var(--sklearn-color-unfitted-level-1);\n",
              "  border: var(--sklearn-color-unfitted-level-1) 1pt solid;\n",
              "}\n",
              "\n",
              "#sk-container-id-2 a.estimator_doc_link.fitted {\n",
              "  /* fitted */\n",
              "  border: var(--sklearn-color-fitted-level-1) 1pt solid;\n",
              "  color: var(--sklearn-color-fitted-level-1);\n",
              "}\n",
              "\n",
              "/* On hover */\n",
              "#sk-container-id-2 a.estimator_doc_link:hover {\n",
              "  /* unfitted */\n",
              "  background-color: var(--sklearn-color-unfitted-level-3);\n",
              "  color: var(--sklearn-color-background);\n",
              "  text-decoration: none;\n",
              "}\n",
              "\n",
              "#sk-container-id-2 a.estimator_doc_link.fitted:hover {\n",
              "  /* fitted */\n",
              "  background-color: var(--sklearn-color-fitted-level-3);\n",
              "}\n",
              "</style><div id=\"sk-container-id-2\" class=\"sk-top-container\"><div class=\"sk-text-repr-fallback\"><pre>LogisticRegression()</pre><b>In a Jupyter environment, please rerun this cell to show the HTML representation or trust the notebook. <br />On GitHub, the HTML representation is unable to render, please try loading this page with nbviewer.org.</b></div><div class=\"sk-container\" hidden><div class=\"sk-item\"><div class=\"sk-estimator fitted sk-toggleable\"><input class=\"sk-toggleable__control sk-hidden--visually\" id=\"sk-estimator-id-2\" type=\"checkbox\" checked><label for=\"sk-estimator-id-2\" class=\"sk-toggleable__label fitted sk-toggleable__label-arrow\"><div><div>LogisticRegression</div></div><div><a class=\"sk-estimator-doc-link fitted\" rel=\"noreferrer\" target=\"_blank\" href=\"https://scikit-learn.org/1.6/modules/generated/sklearn.linear_model.LogisticRegression.html\">?<span>Documentation for LogisticRegression</span></a><span class=\"sk-estimator-doc-link fitted\">i<span>Fitted</span></span></div></label><div class=\"sk-toggleable__content fitted\"><pre>LogisticRegression()</pre></div> </div></div></div></div>"
            ]
          },
          "metadata": {},
          "execution_count": 17
        }
      ],
      "source": [
        "# Train Logistic Regression model\n",
        "model = LogisticRegression()\n",
        "model.fit(X_train_tfidf, y_train)"
      ]
    },
    {
      "cell_type": "code",
      "execution_count": 18,
      "metadata": {
        "id": "SwyGEnVdjzue"
      },
      "outputs": [],
      "source": [
        "y_pred = model.predict(X_test_tfidf)"
      ]
    },
    {
      "cell_type": "code",
      "execution_count": 19,
      "metadata": {
        "id": "Cd6Dcvq3j2Ys",
        "colab": {
          "base_uri": "https://localhost:8080/"
        },
        "outputId": "251bc5a4-98af-4da1-b0a4-0b9d4ca8931f"
      },
      "outputs": [
        {
          "output_type": "stream",
          "name": "stdout",
          "text": [
            "Model Accuracy: 0.9850\n",
            "\n",
            "Classification Report:\n",
            "               precision    recall  f1-score   support\n",
            "\n",
            "           0       0.99      0.98      0.99      4710\n",
            "           1       0.98      0.99      0.98      4270\n",
            "\n",
            "    accuracy                           0.98      8980\n",
            "   macro avg       0.98      0.99      0.98      8980\n",
            "weighted avg       0.99      0.98      0.98      8980\n",
            "\n"
          ]
        }
      ],
      "source": [
        "accuracy = accuracy_score(y_test, y_pred)\n",
        "print(f\"Model Accuracy: {accuracy:.4f}\")\n",
        "print(\"\\nClassification Report:\\n\", classification_report(y_test, y_pred))"
      ]
    },
    {
      "cell_type": "code",
      "execution_count": 20,
      "metadata": {
        "id": "CWUKVZ2_j5Ro",
        "colab": {
          "base_uri": "https://localhost:8080/",
          "height": 410
        },
        "outputId": "3e7d7edc-cf5f-4d69-dbd9-dd9c9f339395"
      },
      "outputs": [
        {
          "output_type": "display_data",
          "data": {
            "text/plain": [
              "<Figure size 600x400 with 2 Axes>"
            ],
            "image/png": "[encoded data removed]"
          },
          "metadata": {}
        }
      ],
      "source": [
        "# Plot Confusion Matrix\n",
        "plt.figure(figsize=(6,4))\n",
        "sns.heatmap(confusion_matrix(y_test, y_pred), annot=True, fmt=\"d\", cmap=\"Blues\", xticklabels=[\"Fake\", \"True\"], yticklabels=[\"Fake\", \"True\"])\n",
        "plt.xlabel(\"Predicted\")\n",
        "plt.ylabel(\"Actual\")\n",
        "plt.title(\"Confusion Matrix\")\n",
        "plt.show()"
      ]
    },
    {
      "cell_type": "code",
      "source": [
        "nv = MultinomialNB()\n",
        "nv.fit(X_train_tfidf, y_train)\n",
        "print(accuracy_score(y_test, nv.predict(X_test_tfidf)))\n",
        "print(confusion_matrix(y_test, nv.predict(X_test_tfidf)))"
      ],
      "metadata": {
        "colab": {
          "base_uri": "https://localhost:8080/"
        },
        "id": "ecbjAKHwfYlH",
        "outputId": "6fca2eb3-a4fa-4ae8-88b7-9baaa39c6538"
      },
      "execution_count": 21,
      "outputs": [
        {
          "output_type": "stream",
          "name": "stdout",
          "text": [
            "0.9263919821826281\n",
            "[[4389  321]\n",
            " [ 340 3930]]\n"
          ]
        }
      ]
    },
    {
      "cell_type": "code",
      "source": [
        "xg = XGBClassifier()\n",
        "xg.fit(X_train_tfidf, y_train)\n",
        "print(accuracy_score(y_test, xg.predict(X_test_tfidf)))\n",
        "print(confusion_matrix(y_test, xg.predict(X_test_tfidf)))"
      ],
      "metadata": {
        "colab": {
          "base_uri": "https://localhost:8080/"
        },
        "id": "dZJVucrZfgJM",
        "outputId": "35d18c7d-1206-4ee7-f781-96e4c6dea1d7"
      },
      "execution_count": 23,
      "outputs": [
        {
          "output_type": "stream",
          "name": "stdout",
          "text": [
            "0.9973273942093541\n",
            "[[4696   14]\n",
            " [  10 4260]]\n"
          ]
        }
      ]
    },
    {
      "cell_type": "code",
      "source": [],
      "metadata": {
        "id": "V7k_mETmGHf5"
      },
      "execution_count": null,
      "outputs": []
    },
    {
      "cell_type": "code",
      "source": [
        "plt.figure(figsize=(6,4))\n",
        "sns.heatmap(confusion_matrix(y_test, xg.predict(X_test_tfidf)), annot=True, fmt=\"d\", cmap=\"Blues\", xticklabels=[\"Fake\", \"True\"], yticklabels=[\"Fake\", \"True\"])\n",
        "plt.xlabel(\"Predicted\")\n",
        "plt.ylabel(\"Actual\")\n",
        "plt.title(\"Confusion Matrix XGB with\")\n",
        "plt.show()"
      ],
      "metadata": {
        "colab": {
          "base_uri": "https://localhost:8080/",
          "height": 410
        },
        "id": "rA3pIpw1Cf3J",
        "outputId": "2d1f971d-1f50-430c-91f5-34dbac5097b0"
      },
      "execution_count": 27,
      "outputs": [
        {
          "output_type": "display_data",
          "data": {
            "text/plain": [
              "<Figure size 600x400 with 2 Axes>"
            ],
            "image/png": "[encoded data removed]"
          },
          "metadata": {}
        }
      ]
    },
    {
      "cell_type": "code",
      "source": [
        "#rf,cv,dt"
      ],
      "metadata": {
        "id": "Hdovziw7fkvH"
      },
      "execution_count": null,
      "outputs": []
    },
    {
      "cell_type": "code",
      "source": [
        "dt = DecisionTreeClassifier()\n",
        "dt.fit(X_train_tfidf, y_train)\n",
        "print(accuracy_score(y_test, dt.predict(X_test_tfidf)))\n",
        "print(confusion_matrix(y_test, dt.predict(X_test_tfidf)))"
      ],
      "metadata": {
        "colab": {
          "base_uri": "https://localhost:8080/"
        },
        "id": "B5Wq0dIygA_g",
        "outputId": "a29ee563-b901-48dc-8d02-ba30d67ce291"
      },
      "execution_count": 28,
      "outputs": [
        {
          "output_type": "stream",
          "name": "stdout",
          "text": [
            "0.9956570155902005\n",
            "[[4695   15]\n",
            " [  24 4246]]\n"
          ]
        }
      ]
    },
    {
      "cell_type": "code",
      "source": [
        "plt.figure(figsize=(6,4))\n",
        "sns.heatmap(confusion_matrix(y_test, dt.predict(X_test_tfidf)), annot=True, fmt=\"d\", cmap=\"Blues\", xticklabels=[\"Fake\", \"True\"], yticklabels=[\"Fake\", \"True\"])\n",
        "plt.xlabel(\"Predicted\")\n",
        "plt.ylabel(\"Actual\")\n",
        "plt.title(\"Confusion Matrix DT\")\n",
        "plt.show()"
      ],
      "metadata": {
        "colab": {
          "base_uri": "https://localhost:8080/",
          "height": 410
        },
        "id": "thk0KKVrC29Z",
        "outputId": "0626dc23-2402-42f3-f0c7-271f5990dc5b"
      },
      "execution_count": 29,
      "outputs": [
        {
          "output_type": "display_data",
          "data": {
            "text/plain": [
              "<Figure size 600x400 with 2 Axes>"
            ],
            "image/png": "[encoded data removed]"
          },
          "metadata": {}
        }
      ]
    },
    {
      "cell_type": "code",
      "source": [
        "rf = RandomForestClassifier()\n",
        "rf.fit(X_train_tfidf, y_train)\n",
        "print(accuracy_score(y_test, rf.predict(X_test_tfidf)))\n",
        "print(confusion_matrix(y_test, rf.predict(X_test_tfidf)))\n"
      ],
      "metadata": {
        "colab": {
          "base_uri": "https://localhost:8080/"
        },
        "id": "Rx0gjYqMgA7j",
        "outputId": "95033e6e-2c55-4ef4-d47f-441851f19948"
      },
      "execution_count": 30,
      "outputs": [
        {
          "output_type": "stream",
          "name": "stdout",
          "text": [
            "0.9968819599109131\n",
            "[[4697   13]\n",
            " [  15 4255]]\n"
          ]
        }
      ]
    },
    {
      "cell_type": "code",
      "source": [
        "plt.figure(figsize=(6,4))\n",
        "sns.heatmap(confusion_matrix(y_test, rf.predict(X_test_tfidf)), annot=True, fmt=\"d\", cmap=\"Blues\", xticklabels=[\"Fake\", \"True\"], yticklabels=[\"Fake\", \"True\"])\n",
        "plt.xlabel(\"Predicted\")\n",
        "plt.ylabel(\"Actual\")\n",
        "plt.title(\"Confusion Matrix RF\")\n",
        "plt.show()"
      ],
      "metadata": {
        "colab": {
          "base_uri": "https://localhost:8080/",
          "height": 410
        },
        "id": "-ibKGnehC91_",
        "outputId": "b90bbba8-593e-4f25-a0b2-623ba9138d49"
      },
      "execution_count": 31,
      "outputs": [
        {
          "output_type": "display_data",
          "data": {
            "text/plain": [
              "<Figure size 600x400 with 2 Axes>"
            ],
            "image/png": "[encoded data removed]"
          },
          "metadata": {}
        }
      ]
    },
    {
      "cell_type": "code",
      "source": [
        "!pip install optuna"
      ],
      "metadata": {
        "colab": {
          "base_uri": "https://localhost:8080/"
        },
        "id": "-YNWxjLugXFD",
        "outputId": "7ce6ba16-c417-4917-f538-4d62f077f6dc"
      },
      "execution_count": 32,
      "outputs": [
        {
          "output_type": "stream",
          "name": "stdout",
          "text": [
            "Collecting optuna\n",
            "  Downloading optuna-4.5.0-py3-none-any.whl.metadata (17 kB)\n",
            "Requirement already satisfied: alembic>=1.5.0 in /usr/local/lib/python3.12/dist-packages (from optuna) (1.16.5)\n",
            "Collecting colorlog (from optuna)\n",
            "  Downloading colorlog-6.9.0-py3-none-any.whl.metadata (10 kB)\n",
            "Requirement already satisfied: numpy in /usr/local/lib/python3.12/dist-packages (from optuna) (2.0.2)\n",
            "Requirement already satisfied: packaging>=20.0 in /usr/local/lib/python3.12/dist-packages (from optuna) (25.0)\n",
            "Requirement already satisfied: sqlalchemy>=1.4.2 in /usr/local/lib/python3.12/dist-packages (from optuna) (2.0.43)\n",
            "Requirement already satisfied: tqdm in /usr/local/lib/python3.12/dist-packages (from optuna) (4.67.1)\n",
            "Requirement already satisfied: PyYAML in /usr/local/lib/python3.12/dist-packages (from optuna) (6.0.2)\n",
            "Requirement already satisfied: Mako in /usr/local/lib/python3.12/dist-packages (from alembic>=1.5.0->optuna) (1.3.10)\n",
            "Requirement already satisfied: typing-extensions>=4.12 in /usr/local/lib/python3.12/dist-packages (from alembic>=1.5.0->optuna) (4.15.0)\n",
            "Requirement already satisfied: greenlet>=1 in /usr/local/lib/python3.12/dist-packages (from sqlalchemy>=1.4.2->optuna) (3.2.4)\n",
            "Requirement already satisfied: MarkupSafe>=0.9.2 in /usr/local/lib/python3.12/dist-packages (from Mako->alembic>=1.5.0->optuna) (3.0.2)\n",
            "Downloading optuna-4.5.0-py3-none-any.whl (400 kB)\n",
            "\u001b[2K   \u001b[90m━━━━━━━━━━━━━━━━━━━━━━━━━━━━━━━━━━━━━━━━\u001b[0m \u001b[32m400.9/400.9 kB\u001b[0m \u001b[31m17.4 MB/s\u001b[0m eta \u001b[36m0:00:00\u001b[0m\n",
            "\u001b[?25hDownloading colorlog-6.9.0-py3-none-any.whl (11 kB)\n",
            "Installing collected packages: colorlog, optuna\n",
            "Successfully installed colorlog-6.9.0 optuna-4.5.0\n"
          ]
        }
      ]
    },
    {
      "cell_type": "code",
      "source": [
        "import optuna"
      ],
      "metadata": {
        "id": "-LOSQ9xbg9RC"
      },
      "execution_count": 33,
      "outputs": []
    },
    {
      "cell_type": "code",
      "source": [
        "from sklearn.model_selection import cross_val_score\n",
        "\n",
        "def objective_logreg(trial):\n",
        "    C = trial.suggest_float('C', 1e-3, 1e2, log=True)\n",
        "    penalty = trial.suggest_categorical('penalty', ['l1', 'l2'])\n",
        "    solver = 'liblinear' if penalty == 'l1' else 'lbfgs'\n",
        "    class_weight = trial.suggest_categorical('class_weight', [None, 'balanced'])\n",
        "\n",
        "    model = LogisticRegression(\n",
        "        C=C, penalty=penalty, solver=solver,\n",
        "        class_weight=class_weight, max_iter=1000, random_state=42\n",
        "    )\n",
        "    score = cross_val_score(model, X_train_tfidf, y_train, cv=3, scoring='accuracy').mean()\n",
        "    return score"
      ],
      "metadata": {
        "id": "9e36WVTYhDrR"
      },
      "execution_count": 34,
      "outputs": []
    },
    {
      "cell_type": "code",
      "source": [
        "study = optuna.create_study(direction='maximize', sampler=optuna.samplers.TPESampler())  # We aim to maximize accuracy\n",
        "study.optimize(objective_logreg, n_trials=100)  # Run 50 trials to find the best hyperparameters"
      ],
      "metadata": {
        "colab": {
          "base_uri": "https://localhost:8080/"
        },
        "collapsed": true,
        "id": "hYIu7Y2DhNz_",
        "outputId": "5d0e1141-0ffc-4858-c5de-0192577839ba"
      },
      "execution_count": 35,
      "outputs": [
        {
          "output_type": "stream",
          "name": "stderr",
          "text": [
            "[I 2025-09-18 18:36:16,670] A new study created in memory with name: no-name-e02f6c38-f58a-487a-8676-e1c72e0ddcf8\n",
            "[I 2025-09-18 18:36:20,951] Trial 0 finished with value: 0.9677320733539315 and parameters: {'C': 0.083798706340025, 'penalty': 'l2', 'class_weight': None}. Best is trial 0 with value: 0.9677320733539315.\n",
            "[I 2025-09-18 18:36:21,942] Trial 1 finished with value: 0.9511943832638918 and parameters: {'C': 0.014880830018439291, 'penalty': 'l2', 'class_weight': 'balanced'}. Best is trial 0 with value: 0.9677320733539315.\n",
            "[I 2025-09-18 18:36:25,165] Trial 2 finished with value: 0.9937078886342695 and parameters: {'C': 22.170735553432753, 'penalty': 'l1', 'class_weight': 'balanced'}. Best is trial 2 with value: 0.9937078886342695.\n",
            "[I 2025-09-18 18:36:27,525] Trial 3 finished with value: 0.993568695842514 and parameters: {'C': 8.129059676695109, 'penalty': 'l1', 'class_weight': None}. Best is trial 2 with value: 0.9937078886342695.\n",
            "[I 2025-09-18 18:36:28,622] Trial 4 finished with value: 0.9204297996958614 and parameters: {'C': 0.010853960062189121, 'penalty': 'l1', 'class_weight': None}. Best is trial 2 with value: 0.9937078886342695.\n",
            "[I 2025-09-18 18:36:29,309] Trial 5 finished with value: 0.9430090327322306 and parameters: {'C': 0.00848405056306776, 'penalty': 'l2', 'class_weight': None}. Best is trial 2 with value: 0.9937078886342695.\n",
            "[I 2025-09-18 18:36:29,865] Trial 6 finished with value: 0.5226070502004794 and parameters: {'C': 0.0010532208053653763, 'penalty': 'l1', 'class_weight': 'balanced'}. Best is trial 2 with value: 0.9937078886342695.\n",
            "[I 2025-09-18 18:36:32,292] Trial 7 finished with value: 0.9936522194241345 and parameters: {'C': 7.1306877629618315, 'penalty': 'l1', 'class_weight': None}. Best is trial 2 with value: 0.9937078886342695.\n",
            "[I 2025-09-18 18:36:33,824] Trial 8 finished with value: 0.9832953185577823 and parameters: {'C': 0.8459125824270692, 'penalty': 'l2', 'class_weight': 'balanced'}. Best is trial 2 with value: 0.9937078886342695.\n",
            "[I 2025-09-18 18:36:35,941] Trial 9 finished with value: 0.9935408484474112 and parameters: {'C': 3.51181481698258, 'penalty': 'l1', 'class_weight': 'balanced'}. Best is trial 2 with value: 0.9937078886342695.\n",
            "[I 2025-09-18 18:36:38,402] Trial 10 finished with value: 0.9937635717971703 and parameters: {'C': 66.8291172693996, 'penalty': 'l1', 'class_weight': 'balanced'}. Best is trial 10 with value: 0.9937635717971703.\n",
            "[I 2025-09-18 18:36:40,621] Trial 11 finished with value: 0.9936800528664715 and parameters: {'C': 94.60022745737008, 'penalty': 'l1', 'class_weight': 'balanced'}. Best is trial 10 with value: 0.9937635717971703.\n",
            "[I 2025-09-18 18:36:43,141] Trial 12 finished with value: 0.993596519983007 and parameters: {'C': 80.74132771582266, 'penalty': 'l1', 'class_weight': 'balanced'}. Best is trial 10 with value: 0.9937635717971703.\n",
            "[I 2025-09-18 18:36:46,476] Trial 13 finished with value: 0.9939027831926136 and parameters: {'C': 21.14361541546139, 'penalty': 'l1', 'class_weight': 'balanced'}. Best is trial 13 with value: 0.9939027831926136.\n",
            "[I 2025-09-18 18:36:47,997] Trial 14 finished with value: 0.9923436685841581 and parameters: {'C': 0.8380812617310862, 'penalty': 'l1', 'class_weight': 'balanced'}. Best is trial 13 with value: 0.9939027831926136.\n",
            "[I 2025-09-18 18:36:50,781] Trial 15 finished with value: 0.9936800482155497 and parameters: {'C': 29.69866781210117, 'penalty': 'l1', 'class_weight': 'balanced'}. Best is trial 13 with value: 0.9939027831926136.\n",
            "[I 2025-09-18 18:36:52,518] Trial 16 finished with value: 0.9932902753770881 and parameters: {'C': 2.298013713195119, 'penalty': 'l1', 'class_weight': 'balanced'}. Best is trial 13 with value: 0.9939027831926136.\n",
            "[I 2025-09-18 18:36:53,654] Trial 17 finished with value: 0.9876663201078694 and parameters: {'C': 0.13102132241998773, 'penalty': 'l1', 'class_weight': 'balanced'}. Best is trial 13 with value: 0.9939027831926136.\n",
            "[I 2025-09-18 18:36:54,684] Trial 18 finished with value: 0.9904504875547516 and parameters: {'C': 18.240102088212904, 'penalty': 'l2', 'class_weight': 'balanced'}. Best is trial 13 with value: 0.9939027831926136.\n",
            "[I 2025-09-18 18:36:57,247] Trial 19 finished with value: 0.993596524633929 and parameters: {'C': 99.45323662497246, 'penalty': 'l1', 'class_weight': 'balanced'}. Best is trial 13 with value: 0.9939027831926136.\n",
            "[I 2025-09-18 18:36:58,984] Trial 20 finished with value: 0.9920374077000124 and parameters: {'C': 0.7020218080912369, 'penalty': 'l1', 'class_weight': 'balanced'}. Best is trial 13 with value: 0.9939027831926136.\n",
            "[I 2025-09-18 18:37:01,848] Trial 21 finished with value: 0.9938749404484328 and parameters: {'C': 22.749408755889863, 'penalty': 'l1', 'class_weight': 'balanced'}. Best is trial 13 with value: 0.9939027831926136.\n",
            "[I 2025-09-18 18:37:04,496] Trial 22 finished with value: 0.9937914122158902 and parameters: {'C': 36.728721321785926, 'penalty': 'l1', 'class_weight': 'balanced'}. Best is trial 13 with value: 0.9939027831926136.\n",
            "[I 2025-09-18 18:37:06,846] Trial 23 finished with value: 0.9935965385866948 and parameters: {'C': 8.313561325972646, 'penalty': 'l1', 'class_weight': 'balanced'}. Best is trial 13 with value: 0.9939027831926136.\n",
            "[I 2025-09-18 18:37:09,384] Trial 24 finished with value: 0.9937914098904291 and parameters: {'C': 26.693610967835884, 'penalty': 'l1', 'class_weight': 'balanced'}. Best is trial 13 with value: 0.9939027831926136.\n",
            "[I 2025-09-18 18:37:11,714] Trial 25 finished with value: 0.9933459562145278 and parameters: {'C': 2.779524344707271, 'penalty': 'l1', 'class_weight': 'balanced'}. Best is trial 13 with value: 0.9939027831926136.\n",
            "[I 2025-09-18 18:37:13,488] Trial 26 finished with value: 0.990339107276184 and parameters: {'C': 11.55156274380191, 'penalty': 'l2', 'class_weight': None}. Best is trial 13 with value: 0.9939027831926136.\n",
            "[I 2025-09-18 18:37:15,529] Trial 27 finished with value: 0.9936522217495956 and parameters: {'C': 4.487060810005153, 'penalty': 'l1', 'class_weight': 'balanced'}. Best is trial 13 with value: 0.9939027831926136.\n",
            "[I 2025-09-18 18:37:17,974] Trial 28 finished with value: 0.9939027762162308 and parameters: {'C': 35.18509797051425, 'penalty': 'l1', 'class_weight': 'balanced'}. Best is trial 13 with value: 0.9939027831926136.\n",
            "[I 2025-09-18 18:37:19,132] Trial 29 finished with value: 0.9714627894572194 and parameters: {'C': 0.12483872153639154, 'penalty': 'l2', 'class_weight': None}. Best is trial 13 with value: 0.9939027831926136.\n",
            "[I 2025-09-18 18:37:20,757] Trial 30 finished with value: 0.9932067448190846 and parameters: {'C': 1.6925354611238637, 'penalty': 'l1', 'class_weight': 'balanced'}. Best is trial 13 with value: 0.9939027831926136.\n",
            "[I 2025-09-18 18:37:25,643] Trial 31 finished with value: 0.9938192503091491 and parameters: {'C': 38.77688398067038, 'penalty': 'l1', 'class_weight': 'balanced'}. Best is trial 13 with value: 0.9939027831926136.\n",
            "[I 2025-09-18 18:37:28,452] Trial 32 finished with value: 0.9937078886342695 and parameters: {'C': 43.95831856891548, 'penalty': 'l1', 'class_weight': 'balanced'}. Best is trial 13 with value: 0.9939027831926136.\n",
            "[I 2025-09-18 18:37:31,117] Trial 33 finished with value: 0.9939027831926136 and parameters: {'C': 18.77127630580219, 'penalty': 'l1', 'class_weight': 'balanced'}. Best is trial 13 with value: 0.9939027831926136.\n",
            "[I 2025-09-18 18:37:33,693] Trial 34 finished with value: 0.9937357313784504 and parameters: {'C': 20.097223624430143, 'penalty': 'l1', 'class_weight': 'balanced'}. Best is trial 13 with value: 0.9939027831926136.\n",
            "[I 2025-09-18 18:37:36,682] Trial 35 finished with value: 0.9935408484474112 and parameters: {'C': 11.95555732188381, 'penalty': 'l1', 'class_weight': 'balanced'}. Best is trial 13 with value: 0.9939027831926136.\n",
            "[I 2025-09-18 18:37:39,057] Trial 36 finished with value: 0.9903947881136239 and parameters: {'C': 14.830887717976289, 'penalty': 'l2', 'class_weight': None}. Best is trial 13 with value: 0.9939027831926136.\n",
            "[I 2025-09-18 18:37:40,197] Trial 37 finished with value: 0.9619967215279187 and parameters: {'C': 0.025194005613052132, 'penalty': 'l1', 'class_weight': 'balanced'}. Best is trial 13 with value: 0.9939027831926136.\n",
            "[I 2025-09-18 18:37:42,602] Trial 38 finished with value: 0.9936522194241345 and parameters: {'C': 6.621797077916968, 'penalty': 'l1', 'class_weight': None}. Best is trial 13 with value: 0.9939027831926136.\n",
            "[I 2025-09-18 18:37:43,515] Trial 39 finished with value: 0.9768640050984523 and parameters: {'C': 0.27479625444102523, 'penalty': 'l2', 'class_weight': 'balanced'}. Best is trial 13 with value: 0.9939027831926136.\n",
            "[I 2025-09-18 18:37:46,342] Trial 40 finished with value: 0.9938192735637589 and parameters: {'C': 4.966110762988762, 'penalty': 'l1', 'class_weight': 'balanced'}. Best is trial 13 with value: 0.9939027831926136.\n",
            "[I 2025-09-18 18:37:48,773] Trial 41 finished with value: 0.9937635880753971 and parameters: {'C': 6.343698269777951, 'penalty': 'l1', 'class_weight': 'balanced'}. Best is trial 13 with value: 0.9939027831926136.\n",
            "[I 2025-09-18 18:37:52,547] Trial 42 finished with value: 0.9937078863088086 and parameters: {'C': 50.54722801113653, 'penalty': 'l1', 'class_weight': 'balanced'}. Best is trial 13 with value: 0.9939027831926136.\n",
            "[I 2025-09-18 18:37:54,257] Trial 43 finished with value: 0.9928448007720382 and parameters: {'C': 1.303211570746179, 'penalty': 'l1', 'class_weight': 'balanced'}. Best is trial 13 with value: 0.9939027831926136.\n",
            "[I 2025-09-18 18:37:56,628] Trial 44 finished with value: 0.9936522217495956 and parameters: {'C': 4.42542956473226, 'penalty': 'l1', 'class_weight': 'balanced'}. Best is trial 13 with value: 0.9939027831926136.\n",
            "[I 2025-09-18 18:37:57,177] Trial 45 finished with value: 0.5226070502004794 and parameters: {'C': 0.0017365919250708155, 'penalty': 'l1', 'class_weight': 'balanced'}. Best is trial 13 with value: 0.9939027831926136.\n",
            "[I 2025-09-18 18:38:00,138] Trial 46 finished with value: 0.9937357290529895 and parameters: {'C': 22.393519784954098, 'penalty': 'l1', 'class_weight': None}. Best is trial 13 with value: 0.9939027831926136.\n",
            "[I 2025-09-18 18:38:03,463] Trial 47 finished with value: 0.9935130103541522 and parameters: {'C': 9.526306822152144, 'penalty': 'l1', 'class_weight': 'balanced'}. Best is trial 13 with value: 0.9939027831926136.\n",
            "[I 2025-09-18 18:38:06,679] Trial 48 finished with value: 0.9937914052395073 and parameters: {'C': 62.37552574278458, 'penalty': 'l1', 'class_weight': 'balanced'}. Best is trial 13 with value: 0.9939027831926136.\n",
            "[I 2025-09-18 18:38:09,387] Trial 49 finished with value: 0.993819259610993 and parameters: {'C': 15.779497029415706, 'penalty': 'l1', 'class_weight': 'balanced'}. Best is trial 13 with value: 0.9939027831926136.\n",
            "[I 2025-09-18 18:38:10,494] Trial 50 finished with value: 0.9905061428121207 and parameters: {'C': 56.69516392197526, 'penalty': 'l2', 'class_weight': 'balanced'}. Best is trial 13 with value: 0.9939027831926136.\n",
            "[I 2025-09-18 18:38:13,303] Trial 51 finished with value: 0.9939584640300535 and parameters: {'C': 16.432733698954646, 'penalty': 'l1', 'class_weight': 'balanced'}. Best is trial 51 with value: 0.9939584640300535.\n",
            "[I 2025-09-18 18:38:16,606] Trial 52 finished with value: 0.9937635694717093 and parameters: {'C': 29.23183444014246, 'penalty': 'l1', 'class_weight': 'balanced'}. Best is trial 51 with value: 0.9939584640300535.\n",
            "[I 2025-09-18 18:38:19,200] Trial 53 finished with value: 0.9937635880753971 and parameters: {'C': 4.956955410884031, 'penalty': 'l1', 'class_weight': 'balanced'}. Best is trial 51 with value: 0.9939584640300535.\n",
            "[I 2025-09-18 18:38:21,796] Trial 54 finished with value: 0.9936800551919326 and parameters: {'C': 12.66404848717113, 'penalty': 'l1', 'class_weight': 'balanced'}. Best is trial 51 with value: 0.9939584640300535.\n",
            "[I 2025-09-18 18:38:24,526] Trial 55 finished with value: 0.9938749381229718 and parameters: {'C': 20.17903641531268, 'penalty': 'l1', 'class_weight': 'balanced'}. Best is trial 51 with value: 0.9939584640300535.\n",
            "[I 2025-09-18 18:38:27,590] Trial 56 finished with value: 0.9937357313784504 and parameters: {'C': 26.098339774247712, 'penalty': 'l1', 'class_weight': 'balanced'}. Best is trial 51 with value: 0.9939584640300535.\n",
            "[I 2025-09-18 18:38:31,228] Trial 57 finished with value: 0.9937357290529895 and parameters: {'C': 18.216115982576554, 'penalty': 'l1', 'class_weight': 'balanced'}. Best is trial 51 with value: 0.9939584640300535.\n",
            "[I 2025-09-18 18:38:33,740] Trial 58 finished with value: 0.993568684215209 and parameters: {'C': 88.08788579654914, 'penalty': 'l1', 'class_weight': 'balanced'}. Best is trial 51 with value: 0.9939584640300535.\n",
            "[I 2025-09-18 18:38:34,912] Trial 59 finished with value: 0.9677041887514534 and parameters: {'C': 0.033048567156134814, 'penalty': 'l1', 'class_weight': None}. Best is trial 51 with value: 0.9939584640300535.\n",
            "[I 2025-09-18 18:38:36,954] Trial 60 finished with value: 0.9933737966332479 and parameters: {'C': 3.1317607616930085, 'penalty': 'l1', 'class_weight': 'balanced'}. Best is trial 51 with value: 0.9939584640300535.\n",
            "[I 2025-09-18 18:38:39,248] Trial 61 finished with value: 0.9936522240750566 and parameters: {'C': 8.729959365754745, 'penalty': 'l1', 'class_weight': 'balanced'}. Best is trial 51 with value: 0.9939584640300535.\n",
            "[I 2025-09-18 18:38:42,099] Trial 62 finished with value: 0.9939027715653088 and parameters: {'C': 39.03701175852491, 'penalty': 'l1', 'class_weight': 'balanced'}. Best is trial 51 with value: 0.9939584640300535.\n",
            "[I 2025-09-18 18:38:45,286] Trial 63 finished with value: 0.9937078909597306 and parameters: {'C': 37.94401063012838, 'penalty': 'l1', 'class_weight': 'balanced'}. Best is trial 51 with value: 0.9939584640300535.\n",
            "[I 2025-09-18 18:38:47,732] Trial 64 finished with value: 0.9938470977042518 and parameters: {'C': 68.4794065163819, 'penalty': 'l1', 'class_weight': 'balanced'}. Best is trial 51 with value: 0.9939584640300535.\n",
            "[I 2025-09-18 18:38:50,610] Trial 65 finished with value: 0.9937914145413512 and parameters: {'C': 35.27409393228459, 'penalty': 'l1', 'class_weight': 'balanced'}. Best is trial 51 with value: 0.9939584640300535.\n",
            "[I 2025-09-18 18:38:53,726] Trial 66 finished with value: 0.9937914122158902 and parameters: {'C': 21.118329042177333, 'penalty': 'l1', 'class_weight': 'balanced'}. Best is trial 51 with value: 0.9939584640300535.\n",
            "[I 2025-09-18 18:38:55,432] Trial 67 finished with value: 0.9902834194623614 and parameters: {'C': 51.5963144030211, 'penalty': 'l2', 'class_weight': 'balanced'}. Best is trial 51 with value: 0.9939584640300535.\n",
            "[I 2025-09-18 18:38:58,719] Trial 68 finished with value: 0.9937357313784504 and parameters: {'C': 31.304230915126382, 'penalty': 'l1', 'class_weight': 'balanced'}. Best is trial 51 with value: 0.9939584640300535.\n",
            "[I 2025-09-18 18:39:01,648] Trial 69 finished with value: 0.9936522054713688 and parameters: {'C': 14.044551987471678, 'penalty': 'l1', 'class_weight': 'balanced'}. Best is trial 51 with value: 0.9939584640300535.\n",
            "[I 2025-09-18 18:39:02,984] Trial 70 finished with value: 0.9909794508595077 and parameters: {'C': 0.47084626842827454, 'penalty': 'l1', 'class_weight': None}. Best is trial 51 with value: 0.9939584640300535.\n",
            "[I 2025-09-18 18:39:05,569] Trial 71 finished with value: 0.9934573178894075 and parameters: {'C': 72.15547866281642, 'penalty': 'l1', 'class_weight': 'balanced'}. Best is trial 51 with value: 0.9939584640300535.\n",
            "[I 2025-09-18 18:39:08,744] Trial 72 finished with value: 0.9936243650526487 and parameters: {'C': 77.15083510665447, 'penalty': 'l1', 'class_weight': 'balanced'}. Best is trial 51 with value: 0.9939584640300535.\n",
            "[I 2025-09-18 18:39:11,566] Trial 73 finished with value: 0.9938749334720499 and parameters: {'C': 47.28096790502224, 'penalty': 'l1', 'class_weight': 'balanced'}. Best is trial 51 with value: 0.9939584640300535.\n",
            "[I 2025-09-18 18:39:14,613] Trial 74 finished with value: 0.9936800505410107 and parameters: {'C': 46.214959291596855, 'penalty': 'l1', 'class_weight': 'balanced'}. Best is trial 51 with value: 0.9939584640300535.\n",
            "[I 2025-09-18 18:39:17,385] Trial 75 finished with value: 0.9937357290529895 and parameters: {'C': 25.234554813196333, 'penalty': 'l1', 'class_weight': 'balanced'}. Best is trial 51 with value: 0.9939584640300535.\n",
            "[I 2025-09-18 18:39:20,132] Trial 76 finished with value: 0.9935686911915921 and parameters: {'C': 9.590024455428493, 'penalty': 'l1', 'class_weight': 'balanced'}. Best is trial 51 with value: 0.9939584640300535.\n",
            "[I 2025-09-18 18:39:22,000] Trial 77 finished with value: 0.9904504875547516 and parameters: {'C': 18.513452237405186, 'penalty': 'l2', 'class_weight': 'balanced'}. Best is trial 51 with value: 0.9939584640300535.\n",
            "[I 2025-09-18 18:39:24,708] Trial 78 finished with value: 0.9936522147732125 and parameters: {'C': 12.026433191771973, 'penalty': 'l1', 'class_weight': 'balanced'}. Best is trial 51 with value: 0.9939584640300535.\n",
            "[I 2025-09-18 18:39:27,147] Trial 79 finished with value: 0.993763583424475 and parameters: {'C': 6.56829223463288, 'penalty': 'l1', 'class_weight': 'balanced'}. Best is trial 51 with value: 0.9939584640300535.\n",
            "[I 2025-09-18 18:39:30,082] Trial 80 finished with value: 0.9937914098904291 and parameters: {'C': 38.51939376584119, 'penalty': 'l1', 'class_weight': 'balanced'}. Best is trial 51 with value: 0.9939584640300535.\n",
            "[I 2025-09-18 18:39:33,803] Trial 81 finished with value: 0.9937914098904291 and parameters: {'C': 63.10404582986975, 'penalty': 'l1', 'class_weight': 'balanced'}. Best is trial 51 with value: 0.9939584640300535.\n",
            "[I 2025-09-18 18:39:36,699] Trial 82 finished with value: 0.9936243673781098 and parameters: {'C': 94.34527145577727, 'penalty': 'l1', 'class_weight': 'balanced'}. Best is trial 51 with value: 0.9939584640300535.\n",
            "[I 2025-09-18 18:39:39,621] Trial 83 finished with value: 0.9937357290529895 and parameters: {'C': 25.05782883132884, 'penalty': 'l1', 'class_weight': 'balanced'}. Best is trial 51 with value: 0.9939584640300535.\n",
            "[I 2025-09-18 18:39:42,319] Trial 84 finished with value: 0.9938192479836881 and parameters: {'C': 50.31000097745137, 'penalty': 'l1', 'class_weight': 'balanced'}. Best is trial 51 with value: 0.9939584640300535.\n",
            "[I 2025-09-18 18:39:45,057] Trial 85 finished with value: 0.993624365052649 and parameters: {'C': 17.01353582786669, 'penalty': 'l1', 'class_weight': 'balanced'}. Best is trial 51 with value: 0.9939584640300535.\n",
            "[I 2025-09-18 18:39:48,917] Trial 86 finished with value: 0.9936522101222907 and parameters: {'C': 30.200459044888856, 'penalty': 'l1', 'class_weight': 'balanced'}. Best is trial 51 with value: 0.9939584640300535.\n",
            "[I 2025-09-18 18:39:51,694] Trial 87 finished with value: 0.9938192456582272 and parameters: {'C': 42.55144925235994, 'penalty': 'l1', 'class_weight': None}. Best is trial 51 with value: 0.9939584640300535.\n",
            "[I 2025-09-18 18:39:54,278] Trial 88 finished with value: 0.9938749334720499 and parameters: {'C': 65.36167792492907, 'penalty': 'l1', 'class_weight': 'balanced'}. Best is trial 51 with value: 0.9939584640300535.\n",
            "[I 2025-09-18 18:39:55,222] Trial 89 finished with value: 0.9901998889043578 and parameters: {'C': 10.53065720630454, 'penalty': 'l2', 'class_weight': 'balanced'}. Best is trial 51 with value: 0.9939584640300535.\n",
            "[I 2025-09-18 18:39:57,418] Trial 90 finished with value: 0.9934016393774288 and parameters: {'C': 1.9657201735743788, 'penalty': 'l1', 'class_weight': 'balanced'}. Best is trial 51 with value: 0.9939584640300535.\n",
            "[I 2025-09-18 18:40:00,908] Trial 91 finished with value: 0.9937078816578865 and parameters: {'C': 66.14383937739166, 'penalty': 'l1', 'class_weight': 'balanced'}. Best is trial 51 with value: 0.9939584640300535.\n",
            "[I 2025-09-18 18:40:04,336] Trial 92 finished with value: 0.9937357290529895 and parameters: {'C': 22.20504839180376, 'penalty': 'l1', 'class_weight': 'balanced'}. Best is trial 51 with value: 0.9939584640300535.\n",
            "[I 2025-09-18 18:40:07,196] Trial 93 finished with value: 0.9939027762162308 and parameters: {'C': 35.66738164744848, 'penalty': 'l1', 'class_weight': 'balanced'}. Best is trial 51 with value: 0.9939584640300535.\n",
            "[I 2025-09-18 18:40:10,046] Trial 94 finished with value: 0.993624365052649 and parameters: {'C': 14.526912747353956, 'penalty': 'l1', 'class_weight': 'balanced'}. Best is trial 51 with value: 0.9939584640300535.\n",
            "[I 2025-09-18 18:40:13,622] Trial 95 finished with value: 0.9938470953787909 and parameters: {'C': 34.534664583961955, 'penalty': 'l1', 'class_weight': 'balanced'}. Best is trial 51 with value: 0.9939584640300535.\n",
            "[I 2025-09-18 18:40:14,886] Trial 96 finished with value: 0.8443398377685875 and parameters: {'C': 0.006055016258673288, 'penalty': 'l1', 'class_weight': 'balanced'}. Best is trial 51 with value: 0.9939584640300535.\n",
            "[I 2025-09-18 18:40:17,555] Trial 97 finished with value: 0.9937357220766065 and parameters: {'C': 51.33108783619325, 'penalty': 'l1', 'class_weight': 'balanced'}. Best is trial 51 with value: 0.9939584640300535.\n",
            "[I 2025-09-18 18:40:20,669] Trial 98 finished with value: 0.9936522101222907 and parameters: {'C': 29.55378274442405, 'penalty': 'l1', 'class_weight': 'balanced'}. Best is trial 51 with value: 0.9939584640300535.\n",
            "[I 2025-09-18 18:40:23,180] Trial 99 finished with value: 0.9934573202148685 and parameters: {'C': 97.68900396520186, 'penalty': 'l1', 'class_weight': None}. Best is trial 51 with value: 0.9939584640300535.\n"
          ]
        }
      ]
    },
    {
      "cell_type": "code",
      "source": [
        "print(f'Best trial accuracy: {study.best_trial.value}')\n",
        "print(f'Best hyperparameters: {study.best_trial.params}')"
      ],
      "metadata": {
        "colab": {
          "base_uri": "https://localhost:8080/"
        },
        "id": "SlFz4YIQhR4e",
        "outputId": "c209f5dd-06d5-406c-b4d7-9d4ba496395e"
      },
      "execution_count": 36,
      "outputs": [
        {
          "output_type": "stream",
          "name": "stdout",
          "text": [
            "Best trial accuracy: 0.9939584640300535\n",
            "Best hyperparameters: {'C': 16.432733698954646, 'penalty': 'l1', 'class_weight': 'balanced'}\n"
          ]
        }
      ]
    },
    {
      "cell_type": "code",
      "source": [
        "lg = LogisticRegression(C =23.657946723302118, penalty='l1',class_weight='balanced', solver= 'liblinear')\n",
        "lg.fit(X_train_tfidf, y_train)\n",
        "print(accuracy_score(y_test, lg.predict(X_test_tfidf)))\n",
        "print(confusion_matrix(y_test, lg.predict(X_test_tfidf)))"
      ],
      "metadata": {
        "colab": {
          "base_uri": "https://localhost:8080/"
        },
        "id": "geAFHbVqhsXi",
        "outputId": "d93d3599-7d4f-4605-89d5-afea08fecb45"
      },
      "execution_count": 38,
      "outputs": [
        {
          "output_type": "stream",
          "name": "stdout",
          "text": [
            "0.9947661469933184\n",
            "[[4692   18]\n",
            " [  29 4241]]\n"
          ]
        }
      ]
    },
    {
      "cell_type": "code",
      "source": [
        "plt.figure(figsize=(6,4))\n",
        "sns.heatmap(confusion_matrix(y_test, lg.predict(X_test_tfidf)), annot=True, fmt=\"d\", cmap=\"Blues\", xticklabels=[\"Fake\", \"True\"], yticklabels=[\"Fake\", \"True\"])\n",
        "plt.xlabel(\"Predicted\")\n",
        "plt.ylabel(\"Actual\")\n",
        "plt.title(\"Confusion Matrix LG Tunned\")\n",
        "plt.show()"
      ],
      "metadata": {
        "colab": {
          "base_uri": "https://localhost:8080/",
          "height": 410
        },
        "id": "ZDfzFvAEDCSZ",
        "outputId": "7082de87-2b68-4546-857a-b57fdff4952b"
      },
      "execution_count": 39,
      "outputs": [
        {
          "output_type": "display_data",
          "data": {
            "text/plain": [
              "<Figure size 600x400 with 2 Axes>"
            ],
            "image/png": "[encoded data removed]"
          },
          "metadata": {}
        }
      ]
    },
    {
      "cell_type": "code",
      "source": [
        "def objective_dt(trial):\n",
        "    criterion = trial.suggest_categorical('criterion', ['gini', 'entropy', 'log_loss'])\n",
        "    max_depth = trial.suggest_int('max_depth', 2, 50)\n",
        "    min_samples_split = trial.suggest_int('min_samples_split', 2, 20)\n",
        "    min_samples_leaf = trial.suggest_int('min_samples_leaf', 1, 10)\n",
        "    max_features = trial.suggest_categorical('max_features', ['sqrt', 'log2', None])\n",
        "\n",
        "    model = DecisionTreeClassifier(\n",
        "        criterion=criterion, max_depth=max_depth,\n",
        "        min_samples_split=min_samples_split, min_samples_leaf=min_samples_leaf,\n",
        "        max_features=max_features, random_state=42\n",
        "    )\n",
        "    score = cross_val_score(model, X_train_tfidf, y_train, cv=3, scoring='accuracy').mean()\n",
        "    return score"
      ],
      "metadata": {
        "id": "kJJURxuCh3XI"
      },
      "execution_count": 40,
      "outputs": []
    },
    {
      "cell_type": "code",
      "source": [
        "study = optuna.create_study(direction='maximize', sampler=optuna.samplers.TPESampler())  # We aim to maximize accuracy\n",
        "study.optimize(objective_dt, n_trials=100)  # Run 50 trials to find the best hyperparameters"
      ],
      "metadata": {
        "colab": {
          "base_uri": "https://localhost:8080/"
        },
        "collapsed": true,
        "id": "5n3n1bI7iPE9",
        "outputId": "e92752be-f2bc-455e-dc2d-568688a1d200"
      },
      "execution_count": 41,
      "outputs": [
        {
          "output_type": "stream",
          "name": "stderr",
          "text": [
            "[I 2025-09-18 18:41:54,787] A new study created in memory with name: no-name-56e79f89-036b-4de2-96af-a08ef9d77b4c\n",
            "[I 2025-09-18 18:41:55,468] Trial 0 finished with value: 0.6781283893884305 and parameters: {'criterion': 'log_loss', 'max_depth': 15, 'min_samples_split': 7, 'min_samples_leaf': 4, 'max_features': 'log2'}. Best is trial 0 with value: 0.6781283893884305.\n",
            "[I 2025-09-18 18:41:57,077] Trial 1 finished with value: 0.885016233624441 and parameters: {'criterion': 'entropy', 'max_depth': 36, 'min_samples_split': 4, 'min_samples_leaf': 9, 'max_features': 'sqrt'}. Best is trial 1 with value: 0.885016233624441.\n",
            "[I 2025-09-18 18:41:58,256] Trial 2 finished with value: 0.8885788514561296 and parameters: {'criterion': 'gini', 'max_depth': 18, 'min_samples_split': 8, 'min_samples_leaf': 5, 'max_features': 'sqrt'}. Best is trial 2 with value: 0.8885788514561296.\n",
            "[I 2025-09-18 18:41:58,816] Trial 3 finished with value: 0.5602767854803278 and parameters: {'criterion': 'log_loss', 'max_depth': 5, 'min_samples_split': 12, 'min_samples_leaf': 2, 'max_features': 'log2'}. Best is trial 2 with value: 0.8885788514561296.\n",
            "[I 2025-09-18 18:42:21,633] Trial 4 finished with value: 0.994515295659061 and parameters: {'criterion': 'log_loss', 'max_depth': 36, 'min_samples_split': 5, 'min_samples_leaf': 9, 'max_features': None}. Best is trial 4 with value: 0.994515295659061.\n",
            "[I 2025-09-18 18:42:46,955] Trial 5 finished with value: 0.9944039014277278 and parameters: {'criterion': 'log_loss', 'max_depth': 33, 'min_samples_split': 5, 'min_samples_leaf': 1, 'max_features': None}. Best is trial 4 with value: 0.994515295659061.\n",
            "[I 2025-09-18 18:42:47,732] Trial 6 finished with value: 0.77426342721396 and parameters: {'criterion': 'log_loss', 'max_depth': 41, 'min_samples_split': 11, 'min_samples_leaf': 6, 'max_features': 'log2'}. Best is trial 4 with value: 0.994515295659061.\n",
            "[I 2025-09-18 18:43:12,540] Trial 7 finished with value: 0.9942647109614332 and parameters: {'criterion': 'entropy', 'max_depth': 22, 'min_samples_split': 7, 'min_samples_leaf': 4, 'max_features': None}. Best is trial 4 with value: 0.994515295659061.\n",
            "[I 2025-09-18 18:43:13,271] Trial 8 finished with value: 0.732863780440319 and parameters: {'criterion': 'entropy', 'max_depth': 7, 'min_samples_split': 15, 'min_samples_leaf': 10, 'max_features': 'sqrt'}. Best is trial 4 with value: 0.994515295659061.\n",
            "[I 2025-09-18 18:43:15,089] Trial 9 finished with value: 0.8860459500669394 and parameters: {'criterion': 'gini', 'max_depth': 45, 'min_samples_split': 18, 'min_samples_leaf': 4, 'max_features': 'sqrt'}. Best is trial 4 with value: 0.994515295659061.\n",
            "[I 2025-09-18 18:43:37,638] Trial 10 finished with value: 0.9942925560310751 and parameters: {'criterion': 'log_loss', 'max_depth': 28, 'min_samples_split': 3, 'min_samples_leaf': 8, 'max_features': None}. Best is trial 4 with value: 0.994515295659061.\n",
            "[I 2025-09-18 18:44:03,585] Trial 11 finished with value: 0.99406981872855 and parameters: {'criterion': 'log_loss', 'max_depth': 32, 'min_samples_split': 2, 'min_samples_leaf': 1, 'max_features': None}. Best is trial 4 with value: 0.994515295659061.\n",
            "[I 2025-09-18 18:44:25,637] Trial 12 finished with value: 0.9943482368685149 and parameters: {'criterion': 'log_loss', 'max_depth': 49, 'min_samples_split': 5, 'min_samples_leaf': 7, 'max_features': None}. Best is trial 4 with value: 0.994515295659061.\n",
            "[I 2025-09-18 18:44:51,785] Trial 13 finished with value: 0.9940419876116741 and parameters: {'criterion': 'log_loss', 'max_depth': 35, 'min_samples_split': 10, 'min_samples_leaf': 2, 'max_features': None}. Best is trial 4 with value: 0.994515295659061.\n",
            "[I 2025-09-18 18:45:14,446] Trial 14 finished with value: 0.9943482368685149 and parameters: {'criterion': 'log_loss', 'max_depth': 27, 'min_samples_split': 5, 'min_samples_leaf': 8, 'max_features': None}. Best is trial 4 with value: 0.994515295659061.\n",
            "[I 2025-09-18 18:46:03,578] Trial 15 finished with value: 0.9942647202632772 and parameters: {'criterion': 'gini', 'max_depth': 41, 'min_samples_split': 14, 'min_samples_leaf': 6, 'max_features': None}. Best is trial 4 with value: 0.994515295659061.\n",
            "[I 2025-09-18 18:46:26,204] Trial 16 finished with value: 0.9946544907762777 and parameters: {'criterion': 'log_loss', 'max_depth': 40, 'min_samples_split': 9, 'min_samples_leaf': 10, 'max_features': None}. Best is trial 16 with value: 0.9946544907762777.\n",
            "[I 2025-09-18 18:46:48,537] Trial 17 finished with value: 0.9946544907762777 and parameters: {'criterion': 'log_loss', 'max_depth': 39, 'min_samples_split': 9, 'min_samples_leaf': 10, 'max_features': None}. Best is trial 16 with value: 0.9946544907762777.\n",
            "[I 2025-09-18 18:47:28,912] Trial 18 finished with value: 0.9939862974723904 and parameters: {'criterion': 'gini', 'max_depth': 48, 'min_samples_split': 9, 'min_samples_leaf': 10, 'max_features': None}. Best is trial 16 with value: 0.9946544907762777.\n",
            "[I 2025-09-18 18:47:29,672] Trial 19 finished with value: 0.7793304531848104 and parameters: {'criterion': 'entropy', 'max_depth': 43, 'min_samples_split': 13, 'min_samples_leaf': 10, 'max_features': 'log2'}. Best is trial 16 with value: 0.9946544907762777.\n",
            "[I 2025-09-18 18:47:52,032] Trial 20 finished with value: 0.9942090347749154 and parameters: {'criterion': 'log_loss', 'max_depth': 39, 'min_samples_split': 16, 'min_samples_leaf': 8, 'max_features': None}. Best is trial 16 with value: 0.9946544907762777.\n",
            "[I 2025-09-18 18:48:14,174] Trial 21 finished with value: 0.994515295659061 and parameters: {'criterion': 'log_loss', 'max_depth': 30, 'min_samples_split': 7, 'min_samples_leaf': 9, 'max_features': None}. Best is trial 16 with value: 0.9946544907762777.\n",
            "[I 2025-09-18 18:48:36,576] Trial 22 finished with value: 0.994515295659061 and parameters: {'criterion': 'log_loss', 'max_depth': 36, 'min_samples_split': 10, 'min_samples_leaf': 9, 'max_features': None}. Best is trial 16 with value: 0.9946544907762777.\n",
            "[I 2025-09-18 18:48:58,890] Trial 23 finished with value: 0.9946544907762777 and parameters: {'criterion': 'log_loss', 'max_depth': 45, 'min_samples_split': 20, 'min_samples_leaf': 10, 'max_features': None}. Best is trial 16 with value: 0.9946544907762777.\n",
            "[I 2025-09-18 18:49:20,686] Trial 24 finished with value: 0.9946544907762777 and parameters: {'criterion': 'log_loss', 'max_depth': 45, 'min_samples_split': 20, 'min_samples_leaf': 10, 'max_features': None}. Best is trial 16 with value: 0.9946544907762777.\n",
            "[I 2025-09-18 18:49:43,415] Trial 25 finished with value: 0.9944596031943164 and parameters: {'criterion': 'log_loss', 'max_depth': 49, 'min_samples_split': 16, 'min_samples_leaf': 7, 'max_features': None}. Best is trial 16 with value: 0.9946544907762777.\n",
            "[I 2025-09-18 18:50:06,458] Trial 26 finished with value: 0.9946544907762777 and parameters: {'criterion': 'log_loss', 'max_depth': 39, 'min_samples_split': 12, 'min_samples_leaf': 10, 'max_features': None}. Best is trial 16 with value: 0.9946544907762777.\n",
            "[I 2025-09-18 18:50:28,978] Trial 27 finished with value: 0.994320396449795 and parameters: {'criterion': 'log_loss', 'max_depth': 24, 'min_samples_split': 20, 'min_samples_leaf': 8, 'max_features': None}. Best is trial 16 with value: 0.9946544907762777.\n",
            "[I 2025-09-18 18:50:30,695] Trial 28 finished with value: 0.8916704425176419 and parameters: {'criterion': 'entropy', 'max_depth': 45, 'min_samples_split': 18, 'min_samples_leaf': 7, 'max_features': 'sqrt'}. Best is trial 16 with value: 0.9946544907762777.\n",
            "[I 2025-09-18 18:50:31,444] Trial 29 finished with value: 0.7799153880096275 and parameters: {'criterion': 'gini', 'max_depth': 40, 'min_samples_split': 9, 'min_samples_leaf': 9, 'max_features': 'log2'}. Best is trial 16 with value: 0.9946544907762777.\n",
            "[I 2025-09-18 18:50:32,043] Trial 30 finished with value: 0.6659893598812423 and parameters: {'criterion': 'log_loss', 'max_depth': 12, 'min_samples_split': 8, 'min_samples_leaf': 10, 'max_features': 'log2'}. Best is trial 16 with value: 0.9946544907762777.\n",
            "[I 2025-09-18 18:50:54,360] Trial 31 finished with value: 0.9946544907762777 and parameters: {'criterion': 'log_loss', 'max_depth': 46, 'min_samples_split': 20, 'min_samples_leaf': 10, 'max_features': None}. Best is trial 16 with value: 0.9946544907762777.\n",
            "[I 2025-09-18 18:51:16,228] Trial 32 finished with value: 0.994515295659061 and parameters: {'criterion': 'log_loss', 'max_depth': 50, 'min_samples_split': 18, 'min_samples_leaf': 9, 'max_features': None}. Best is trial 16 with value: 0.9946544907762777.\n",
            "[I 2025-09-18 18:51:38,624] Trial 33 finished with value: 0.9946544907762777 and parameters: {'criterion': 'log_loss', 'max_depth': 43, 'min_samples_split': 19, 'min_samples_leaf': 10, 'max_features': None}. Best is trial 16 with value: 0.9946544907762777.\n",
            "[I 2025-09-18 18:51:40,243] Trial 34 finished with value: 0.8786125559432657 and parameters: {'criterion': 'log_loss', 'max_depth': 38, 'min_samples_split': 16, 'min_samples_leaf': 9, 'max_features': 'sqrt'}. Best is trial 16 with value: 0.9946544907762777.\n",
            "[I 2025-09-18 18:52:03,102] Trial 35 finished with value: 0.9942090347749154 and parameters: {'criterion': 'log_loss', 'max_depth': 46, 'min_samples_split': 11, 'min_samples_leaf': 8, 'max_features': None}. Best is trial 16 with value: 0.9946544907762777.\n",
            "[I 2025-09-18 18:52:25,601] Trial 36 finished with value: 0.9946544907762777 and parameters: {'criterion': 'log_loss', 'max_depth': 43, 'min_samples_split': 17, 'min_samples_leaf': 10, 'max_features': None}. Best is trial 16 with value: 0.9946544907762777.\n",
            "[I 2025-09-18 18:52:48,948] Trial 37 finished with value: 0.9940976544963481 and parameters: {'criterion': 'entropy', 'max_depth': 33, 'min_samples_split': 13, 'min_samples_leaf': 5, 'max_features': None}. Best is trial 16 with value: 0.9946544907762777.\n",
            "[I 2025-09-18 18:52:49,723] Trial 38 finished with value: 0.76811066444587 and parameters: {'criterion': 'log_loss', 'max_depth': 36, 'min_samples_split': 6, 'min_samples_leaf': 9, 'max_features': 'log2'}. Best is trial 16 with value: 0.9946544907762777.\n",
            "[I 2025-09-18 18:52:51,038] Trial 39 finished with value: 0.869647550438016 and parameters: {'criterion': 'gini', 'max_depth': 19, 'min_samples_split': 8, 'min_samples_leaf': 3, 'max_features': 'sqrt'}. Best is trial 16 with value: 0.9946544907762777.\n",
            "[I 2025-09-18 18:53:13,981] Trial 40 finished with value: 0.9944039246823376 and parameters: {'criterion': 'log_loss', 'max_depth': 42, 'min_samples_split': 19, 'min_samples_leaf': 9, 'max_features': None}. Best is trial 16 with value: 0.9946544907762777.\n",
            "[I 2025-09-18 18:53:35,432] Trial 41 finished with value: 0.9946544907762777 and parameters: {'criterion': 'log_loss', 'max_depth': 39, 'min_samples_split': 12, 'min_samples_leaf': 10, 'max_features': None}. Best is trial 16 with value: 0.9946544907762777.\n",
            "[I 2025-09-18 18:53:57,514] Trial 42 finished with value: 0.9946544907762777 and parameters: {'criterion': 'log_loss', 'max_depth': 38, 'min_samples_split': 10, 'min_samples_leaf': 10, 'max_features': None}. Best is trial 16 with value: 0.9946544907762777.\n",
            "[I 2025-09-18 18:54:19,891] Trial 43 finished with value: 0.9946544907762777 and parameters: {'criterion': 'log_loss', 'max_depth': 45, 'min_samples_split': 9, 'min_samples_leaf': 10, 'max_features': None}. Best is trial 16 with value: 0.9946544907762777.\n",
            "[I 2025-09-18 18:54:41,739] Trial 44 finished with value: 0.994515295659061 and parameters: {'criterion': 'log_loss', 'max_depth': 47, 'min_samples_split': 12, 'min_samples_leaf': 9, 'max_features': None}. Best is trial 16 with value: 0.9946544907762777.\n",
            "[I 2025-09-18 18:55:05,329] Trial 45 finished with value: 0.994515295659061 and parameters: {'criterion': 'log_loss', 'max_depth': 30, 'min_samples_split': 6, 'min_samples_leaf': 9, 'max_features': None}. Best is trial 16 with value: 0.9946544907762777.\n",
            "[I 2025-09-18 18:55:27,549] Trial 46 finished with value: 0.9946544907762777 and parameters: {'criterion': 'entropy', 'max_depth': 34, 'min_samples_split': 19, 'min_samples_leaf': 10, 'max_features': None}. Best is trial 16 with value: 0.9946544907762777.\n",
            "[I 2025-09-18 18:55:50,264] Trial 47 finished with value: 0.9942090347749154 and parameters: {'criterion': 'log_loss', 'max_depth': 43, 'min_samples_split': 11, 'min_samples_leaf': 8, 'max_features': None}. Best is trial 16 with value: 0.9946544907762777.\n",
            "[I 2025-09-18 18:55:51,750] Trial 48 finished with value: 0.8807002524808785 and parameters: {'criterion': 'log_loss', 'max_depth': 31, 'min_samples_split': 15, 'min_samples_leaf': 10, 'max_features': 'sqrt'}. Best is trial 16 with value: 0.9946544907762777.\n",
            "[I 2025-09-18 18:56:33,151] Trial 49 finished with value: 0.9944874436130363 and parameters: {'criterion': 'gini', 'max_depth': 37, 'min_samples_split': 7, 'min_samples_leaf': 8, 'max_features': None}. Best is trial 16 with value: 0.9946544907762777.\n",
            "[I 2025-09-18 18:56:33,931] Trial 50 finished with value: 0.7791636106621344 and parameters: {'criterion': 'log_loss', 'max_depth': 40, 'min_samples_split': 20, 'min_samples_leaf': 7, 'max_features': 'log2'}. Best is trial 16 with value: 0.9946544907762777.\n",
            "[I 2025-09-18 18:56:56,158] Trial 51 finished with value: 0.9946544907762777 and parameters: {'criterion': 'log_loss', 'max_depth': 47, 'min_samples_split': 20, 'min_samples_leaf': 10, 'max_features': None}. Best is trial 16 with value: 0.9946544907762777.\n",
            "[I 2025-09-18 18:57:18,233] Trial 52 finished with value: 0.9946544907762777 and parameters: {'criterion': 'log_loss', 'max_depth': 45, 'min_samples_split': 19, 'min_samples_leaf': 10, 'max_features': None}. Best is trial 16 with value: 0.9946544907762777.\n",
            "[I 2025-09-18 18:57:39,625] Trial 53 finished with value: 0.994515295659061 and parameters: {'criterion': 'log_loss', 'max_depth': 42, 'min_samples_split': 17, 'min_samples_leaf': 9, 'max_features': None}. Best is trial 16 with value: 0.9946544907762777.\n",
            "[I 2025-09-18 18:58:01,870] Trial 54 finished with value: 0.9946544907762777 and parameters: {'criterion': 'log_loss', 'max_depth': 48, 'min_samples_split': 20, 'min_samples_leaf': 10, 'max_features': None}. Best is trial 16 with value: 0.9946544907762777.\n",
            "[I 2025-09-18 18:58:24,292] Trial 55 finished with value: 0.994515295659061 and parameters: {'criterion': 'log_loss', 'max_depth': 41, 'min_samples_split': 3, 'min_samples_leaf': 9, 'max_features': None}. Best is trial 16 with value: 0.9946544907762777.\n",
            "[I 2025-09-18 18:58:46,743] Trial 56 finished with value: 0.9946544907762777 and parameters: {'criterion': 'log_loss', 'max_depth': 50, 'min_samples_split': 17, 'min_samples_leaf': 10, 'max_features': None}. Best is trial 16 with value: 0.9946544907762777.\n",
            "[I 2025-09-18 18:59:08,549] Trial 57 finished with value: 0.994515295659061 and parameters: {'criterion': 'entropy', 'max_depth': 44, 'min_samples_split': 8, 'min_samples_leaf': 9, 'max_features': None}. Best is trial 16 with value: 0.9946544907762777.\n",
            "[I 2025-09-18 18:59:18,315] Trial 58 finished with value: 0.9945988215661427 and parameters: {'criterion': 'log_loss', 'max_depth': 4, 'min_samples_split': 18, 'min_samples_leaf': 10, 'max_features': None}. Best is trial 16 with value: 0.9946544907762777.\n",
            "[I 2025-09-18 19:00:12,753] Trial 59 finished with value: 0.9945431430541639 and parameters: {'criterion': 'gini', 'max_depth': 47, 'min_samples_split': 10, 'min_samples_leaf': 5, 'max_features': None}. Best is trial 16 with value: 0.9946544907762777.\n",
            "[I 2025-09-18 19:00:14,347] Trial 60 finished with value: 0.8811458805663523 and parameters: {'criterion': 'log_loss', 'max_depth': 40, 'min_samples_split': 15, 'min_samples_leaf': 9, 'max_features': 'sqrt'}. Best is trial 16 with value: 0.9946544907762777.\n",
            "[I 2025-09-18 19:00:37,388] Trial 61 finished with value: 0.9946544907762777 and parameters: {'criterion': 'log_loss', 'max_depth': 43, 'min_samples_split': 19, 'min_samples_leaf': 10, 'max_features': None}. Best is trial 16 with value: 0.9946544907762777.\n",
            "[I 2025-09-18 19:01:00,319] Trial 62 finished with value: 0.9946544907762777 and parameters: {'criterion': 'log_loss', 'max_depth': 45, 'min_samples_split': 19, 'min_samples_leaf': 10, 'max_features': None}. Best is trial 16 with value: 0.9946544907762777.\n",
            "[I 2025-09-18 19:01:23,194] Trial 63 finished with value: 0.9946544907762777 and parameters: {'criterion': 'log_loss', 'max_depth': 35, 'min_samples_split': 20, 'min_samples_leaf': 10, 'max_features': None}. Best is trial 16 with value: 0.9946544907762777.\n",
            "[I 2025-09-18 19:01:45,213] Trial 64 finished with value: 0.9946544907762777 and parameters: {'criterion': 'log_loss', 'max_depth': 38, 'min_samples_split': 18, 'min_samples_leaf': 10, 'max_features': None}. Best is trial 16 with value: 0.9946544907762777.\n",
            "[I 2025-09-18 19:02:08,080] Trial 65 finished with value: 0.994348243844898 and parameters: {'criterion': 'log_loss', 'max_depth': 41, 'min_samples_split': 20, 'min_samples_leaf': 9, 'max_features': None}. Best is trial 16 with value: 0.9946544907762777.\n",
            "[I 2025-09-18 19:02:08,693] Trial 66 finished with value: 0.6645417046170269 and parameters: {'criterion': 'log_loss', 'max_depth': 13, 'min_samples_split': 9, 'min_samples_leaf': 10, 'max_features': 'log2'}. Best is trial 16 with value: 0.9946544907762777.\n",
            "[I 2025-09-18 19:02:31,279] Trial 67 finished with value: 0.9943760772872349 and parameters: {'criterion': 'log_loss', 'max_depth': 48, 'min_samples_split': 19, 'min_samples_leaf': 8, 'max_features': None}. Best is trial 16 with value: 0.9946544907762777.\n",
            "[I 2025-09-18 19:02:55,668] Trial 68 finished with value: 0.9936800412391666 and parameters: {'criterion': 'entropy', 'max_depth': 44, 'min_samples_split': 14, 'min_samples_leaf': 2, 'max_features': None}. Best is trial 16 with value: 0.9946544907762777.\n",
            "[I 2025-09-18 19:03:18,251] Trial 69 finished with value: 0.9940141355656493 and parameters: {'criterion': 'log_loss', 'max_depth': 46, 'min_samples_split': 17, 'min_samples_leaf': 6, 'max_features': None}. Best is trial 16 with value: 0.9946544907762777.\n",
            "[I 2025-09-18 19:03:39,800] Trial 70 finished with value: 0.9943760935654615 and parameters: {'criterion': 'log_loss', 'max_depth': 25, 'min_samples_split': 18, 'min_samples_leaf': 9, 'max_features': None}. Best is trial 16 with value: 0.9946544907762777.\n",
            "[I 2025-09-18 19:04:02,034] Trial 71 finished with value: 0.9946544907762777 and parameters: {'criterion': 'log_loss', 'max_depth': 42, 'min_samples_split': 19, 'min_samples_leaf': 10, 'max_features': None}. Best is trial 16 with value: 0.9946544907762777.\n",
            "[I 2025-09-18 19:04:24,199] Trial 72 finished with value: 0.9946544907762777 and parameters: {'criterion': 'log_loss', 'max_depth': 43, 'min_samples_split': 17, 'min_samples_leaf': 10, 'max_features': None}. Best is trial 16 with value: 0.9946544907762777.\n",
            "[I 2025-09-18 19:04:46,003] Trial 73 finished with value: 0.9946544907762777 and parameters: {'criterion': 'log_loss', 'max_depth': 37, 'min_samples_split': 20, 'min_samples_leaf': 10, 'max_features': None}. Best is trial 16 with value: 0.9946544907762777.\n",
            "[I 2025-09-18 19:05:07,644] Trial 74 finished with value: 0.994348243844898 and parameters: {'criterion': 'log_loss', 'max_depth': 44, 'min_samples_split': 20, 'min_samples_leaf': 9, 'max_features': None}. Best is trial 16 with value: 0.9946544907762777.\n",
            "[I 2025-09-18 19:05:30,057] Trial 75 finished with value: 0.9946544907762777 and parameters: {'criterion': 'log_loss', 'max_depth': 39, 'min_samples_split': 12, 'min_samples_leaf': 10, 'max_features': None}. Best is trial 16 with value: 0.9946544907762777.\n",
            "[I 2025-09-18 19:05:31,664] Trial 76 finished with value: 0.8920318982178848 and parameters: {'criterion': 'log_loss', 'max_depth': 49, 'min_samples_split': 18, 'min_samples_leaf': 9, 'max_features': 'sqrt'}. Best is trial 16 with value: 0.9946544907762777.\n",
            "[I 2025-09-18 19:06:13,272] Trial 77 finished with value: 0.9939862974723904 and parameters: {'criterion': 'gini', 'max_depth': 46, 'min_samples_split': 16, 'min_samples_leaf': 10, 'max_features': None}. Best is trial 16 with value: 0.9946544907762777.\n",
            "[I 2025-09-18 19:06:14,200] Trial 78 finished with value: 0.7784397248935025 and parameters: {'criterion': 'log_loss', 'max_depth': 40, 'min_samples_split': 10, 'min_samples_leaf': 10, 'max_features': 'log2'}. Best is trial 16 with value: 0.9946544907762777.\n",
            "[I 2025-09-18 19:06:36,260] Trial 79 finished with value: 0.994515295659061 and parameters: {'criterion': 'log_loss', 'max_depth': 42, 'min_samples_split': 7, 'min_samples_leaf': 9, 'max_features': None}. Best is trial 16 with value: 0.9946544907762777.\n",
            "[I 2025-09-18 19:06:58,509] Trial 80 finished with value: 0.9946544907762777 and parameters: {'criterion': 'log_loss', 'max_depth': 28, 'min_samples_split': 11, 'min_samples_leaf': 10, 'max_features': None}. Best is trial 16 with value: 0.9946544907762777.\n",
            "[I 2025-09-18 19:07:20,664] Trial 81 finished with value: 0.9946544907762777 and parameters: {'criterion': 'log_loss', 'max_depth': 39, 'min_samples_split': 9, 'min_samples_leaf': 10, 'max_features': None}. Best is trial 16 with value: 0.9946544907762777.\n",
            "[I 2025-09-18 19:07:42,040] Trial 82 finished with value: 0.9946544907762777 and parameters: {'criterion': 'log_loss', 'max_depth': 35, 'min_samples_split': 14, 'min_samples_leaf': 10, 'max_features': None}. Best is trial 16 with value: 0.9946544907762777.\n",
            "[I 2025-09-18 19:08:04,238] Trial 83 finished with value: 0.9946544907762777 and parameters: {'criterion': 'log_loss', 'max_depth': 37, 'min_samples_split': 12, 'min_samples_leaf': 10, 'max_features': None}. Best is trial 16 with value: 0.9946544907762777.\n",
            "[I 2025-09-18 19:08:28,001] Trial 84 finished with value: 0.9938749404484328 and parameters: {'criterion': 'log_loss', 'max_depth': 39, 'min_samples_split': 13, 'min_samples_leaf': 4, 'max_features': None}. Best is trial 16 with value: 0.9946544907762777.\n",
            "[I 2025-09-18 19:08:50,462] Trial 85 finished with value: 0.9944039246823376 and parameters: {'criterion': 'entropy', 'max_depth': 33, 'min_samples_split': 19, 'min_samples_leaf': 9, 'max_features': None}. Best is trial 16 with value: 0.9946544907762777.\n",
            "[I 2025-09-18 19:09:11,742] Trial 86 finished with value: 0.9946544907762777 and parameters: {'criterion': 'log_loss', 'max_depth': 44, 'min_samples_split': 13, 'min_samples_leaf': 10, 'max_features': None}. Best is trial 16 with value: 0.9946544907762777.\n",
            "[I 2025-09-18 19:09:33,859] Trial 87 finished with value: 0.9943760935654615 and parameters: {'criterion': 'log_loss', 'max_depth': 22, 'min_samples_split': 11, 'min_samples_leaf': 9, 'max_features': None}. Best is trial 16 with value: 0.9946544907762777.\n",
            "[I 2025-09-18 19:10:13,950] Trial 88 finished with value: 0.9939862974723904 and parameters: {'criterion': 'gini', 'max_depth': 41, 'min_samples_split': 6, 'min_samples_leaf': 10, 'max_features': None}. Best is trial 16 with value: 0.9946544907762777.\n",
            "[I 2025-09-18 19:10:36,663] Trial 89 finished with value: 0.9946544907762777 and parameters: {'criterion': 'log_loss', 'max_depth': 46, 'min_samples_split': 12, 'min_samples_leaf': 10, 'max_features': None}. Best is trial 16 with value: 0.9946544907762777.\n",
            "[I 2025-09-18 19:10:38,356] Trial 90 finished with value: 0.8828724004590386 and parameters: {'criterion': 'log_loss', 'max_depth': 50, 'min_samples_split': 10, 'min_samples_leaf': 9, 'max_features': 'sqrt'}. Best is trial 16 with value: 0.9946544907762777.\n",
            "[I 2025-09-18 19:11:00,646] Trial 91 finished with value: 0.9946544907762777 and parameters: {'criterion': 'log_loss', 'max_depth': 38, 'min_samples_split': 8, 'min_samples_leaf': 10, 'max_features': None}. Best is trial 16 with value: 0.9946544907762777.\n",
            "[I 2025-09-18 19:11:22,605] Trial 92 finished with value: 0.9946544907762777 and parameters: {'criterion': 'log_loss', 'max_depth': 43, 'min_samples_split': 8, 'min_samples_leaf': 10, 'max_features': None}. Best is trial 16 with value: 0.9946544907762777.\n",
            "[I 2025-09-18 19:11:44,358] Trial 93 finished with value: 0.9946544907762777 and parameters: {'criterion': 'log_loss', 'max_depth': 41, 'min_samples_split': 9, 'min_samples_leaf': 10, 'max_features': None}. Best is trial 16 with value: 0.9946544907762777.\n",
            "[I 2025-09-18 19:12:02,290] Trial 94 finished with value: 0.994765873380306 and parameters: {'criterion': 'log_loss', 'max_depth': 8, 'min_samples_split': 10, 'min_samples_leaf': 10, 'max_features': None}. Best is trial 94 with value: 0.994765873380306.\n",
            "[I 2025-09-18 19:12:23,688] Trial 95 finished with value: 0.9944317744029014 and parameters: {'criterion': 'log_loss', 'max_depth': 17, 'min_samples_split': 10, 'min_samples_leaf': 9, 'max_features': None}. Best is trial 94 with value: 0.994765873380306.\n",
            "[I 2025-09-18 19:12:24,274] Trial 96 finished with value: 0.5898993653975148 and parameters: {'criterion': 'log_loss', 'max_depth': 7, 'min_samples_split': 20, 'min_samples_leaf': 10, 'max_features': 'log2'}. Best is trial 94 with value: 0.994765873380306.\n",
            "[I 2025-09-18 19:12:46,703] Trial 97 finished with value: 0.9946544907762777 and parameters: {'criterion': 'log_loss', 'max_depth': 48, 'min_samples_split': 19, 'min_samples_leaf': 10, 'max_features': None}. Best is trial 94 with value: 0.994765873380306.\n",
            "[I 2025-09-18 19:13:02,323] Trial 98 finished with value: 0.9946266596594017 and parameters: {'criterion': 'log_loss', 'max_depth': 7, 'min_samples_split': 11, 'min_samples_leaf': 9, 'max_features': None}. Best is trial 94 with value: 0.994765873380306.\n",
            "[I 2025-09-18 19:13:22,241] Trial 99 finished with value: 0.9946266550084797 and parameters: {'criterion': 'entropy', 'max_depth': 10, 'min_samples_split': 9, 'min_samples_leaf': 10, 'max_features': None}. Best is trial 94 with value: 0.994765873380306.\n"
          ]
        }
      ]
    },
    {
      "cell_type": "code",
      "source": [
        "print(f'Best trial accuracy: {study.best_trial.value}')\n",
        "print(f'Best hyperparameters: {study.best_trial.params}')"
      ],
      "metadata": {
        "colab": {
          "base_uri": "https://localhost:8080/"
        },
        "id": "cedJ_G42iXuw",
        "outputId": "34b1b79a-2c87-4caa-b317-88f028c3e3eb"
      },
      "execution_count": 42,
      "outputs": [
        {
          "output_type": "stream",
          "name": "stdout",
          "text": [
            "Best trial accuracy: 0.994765873380306\n",
            "Best hyperparameters: {'criterion': 'log_loss', 'max_depth': 8, 'min_samples_split': 10, 'min_samples_leaf': 10, 'max_features': None}\n"
          ]
        }
      ]
    },
    {
      "cell_type": "code",
      "source": [
        "dt = DecisionTreeClassifier(max_depth=13,min_samples_split=17,min_samples_leaf=3,max_features=None,criterion='gini')\n",
        "dt.fit(X_train_tfidf, y_train)\n",
        "print(accuracy_score(y_test, dt.predict(X_test_tfidf)))\n",
        "print(confusion_matrix(y_test, dt.predict(X_test_tfidf)))"
      ],
      "metadata": {
        "colab": {
          "base_uri": "https://localhost:8080/"
        },
        "id": "QfkAuv8Jlfxk",
        "outputId": "e91a56f3-ff56-4cce-9c00-b15fc68cd15f"
      },
      "execution_count": 43,
      "outputs": [
        {
          "output_type": "stream",
          "name": "stdout",
          "text": [
            "0.9946547884187082\n",
            "[[4681   29]\n",
            " [  19 4251]]\n"
          ]
        }
      ]
    },
    {
      "cell_type": "code",
      "source": [
        "plt.figure(figsize=(6,4))\n",
        "sns.heatmap(confusion_matrix(y_test, dt.predict(X_test_tfidf)), annot=True, fmt=\"d\", cmap=\"Blues\", xticklabels=[\"Fake\", \"True\"], yticklabels=[\"Fake\", \"True\"])\n",
        "plt.xlabel(\"Predicted\")\n",
        "plt.ylabel(\"Actual\")\n",
        "plt.title(\"Confusion Matrix dt Tunned\")\n",
        "plt.show()"
      ],
      "metadata": {
        "colab": {
          "base_uri": "https://localhost:8080/",
          "height": 410
        },
        "id": "3snSo6N-DKg0",
        "outputId": "0e5eced4-1758-491a-eb9f-00e7768133dc"
      },
      "execution_count": 44,
      "outputs": [
        {
          "output_type": "display_data",
          "data": {
            "text/plain": [
              "<Figure size 600x400 with 2 Axes>"
            ],
            "image/png": "[encoded data removed]"
          },
          "metadata": {}
        }
      ]
    },
    {
      "cell_type": "code",
      "source": [
        "def objective_rf(trial):\n",
        "    n_estimators = trial.suggest_int('n_estimators', 50, 500)\n",
        "    max_depth = trial.suggest_int('max_depth', 3, 50)\n",
        "    max_features = trial.suggest_categorical('max_features', ['sqrt', 'log2', None])\n",
        "    min_samples_split = trial.suggest_int('min_samples_split', 2, 20)\n",
        "    min_samples_leaf = trial.suggest_int('min_samples_leaf', 1, 10)\n",
        "    bootstrap = trial.suggest_categorical('bootstrap', [True, False])\n",
        "    class_weight = trial.suggest_categorical('class_weight', [None, 'balanced'])\n",
        "\n",
        "    model = RandomForestClassifier(\n",
        "        n_estimators=n_estimators, max_depth=max_depth, max_features=max_features,\n",
        "        min_samples_split=min_samples_split, min_samples_leaf=min_samples_leaf,\n",
        "        bootstrap=bootstrap, class_weight=class_weight, random_state=42\n",
        "    )\n",
        "    score = cross_val_score(model, X_train_tfidf, y_train, cv=3, scoring='accuracy').mean()\n",
        "    return score"
      ],
      "metadata": {
        "id": "sjWL1WDBlwMn"
      },
      "execution_count": 45,
      "outputs": []
    },
    {
      "cell_type": "code",
      "source": [
        "from xgboost import XGBClassifier"
      ],
      "metadata": {
        "id": "iehH3wU3rXp_"
      },
      "execution_count": 46,
      "outputs": []
    },
    {
      "cell_type": "code",
      "source": [
        "def objective_xgb(trial):\n",
        "    # Suggest hyperparameters\n",
        "    params = {\n",
        "        \"n_estimators\": trial.suggest_int(\"n_estimators\", 100, 500),    # boosting rounds\n",
        "        \"max_depth\": trial.suggest_int(\"max_depth\", 3, 15),             # depth of trees\n",
        "        \"learning_rate\": trial.suggest_float(\"learning_rate\", 0.01, 0.3, log=True),  # step size shrinkage\n",
        "        \"subsample\": trial.suggest_float(\"subsample\", 0.5, 1.0),        # % of rows used per tree\n",
        "        \"colsample_bytree\": trial.suggest_float(\"colsample_bytree\", 0.5, 1.0), # % of features used per tree\n",
        "        \"gamma\": trial.suggest_float(\"gamma\", 0, 5),                    # min loss reduction for split\n",
        "        \"min_child_weight\": trial.suggest_int(\"min_child_weight\", 1, 10), # min sum of weights in a child\n",
        "        \"reg_alpha\": trial.suggest_float(\"reg_alpha\", 0, 1.0),          # L1 regularization\n",
        "        \"reg_lambda\": trial.suggest_float(\"reg_lambda\", 0, 1.0),        # L2 regularization\n",
        "        \"n_jobs\": -1,\n",
        "        \"random_state\": 42,\n",
        "        \"tree_method\": \"hist\",   # use \"hist\" if no GPU\n",
        "        \"predictor\": \"gpu_predictor\" # only works if GPU enabled\n",
        "    }\n",
        "\n",
        "    # Create model with suggested params\n",
        "    model = XGBClassifier(\n",
        "        use_label_encoder=False,\n",
        "        eval_metric=\"logloss\",\n",
        "        **params\n",
        "    )\n",
        "\n",
        "    # Evaluate model\n",
        "    score = cross_val_score(\n",
        "        model, X_train_tfidf, y_train, cv=3, scoring=\"accuracy\", n_jobs=1\n",
        "    ).mean()\n",
        "\n",
        "    return score\n"
      ],
      "metadata": {
        "id": "krKd0Vwwl98r"
      },
      "execution_count": 47,
      "outputs": []
    },
    {
      "cell_type": "code",
      "source": [
        "nb = MultinomialNB()\n",
        "nb.fit(X_train_tfidf, y_train)\n",
        "print(accuracy_score(y_test, nb.predict(X_test_tfidf)))\n",
        "print(confusion_matrix(y_test, nb.predict(X_test_tfidf)))"
      ],
      "metadata": {
        "colab": {
          "base_uri": "https://localhost:8080/"
        },
        "id": "k1CyuLD81gfW",
        "outputId": "48e908eb-01cd-47f0-f57d-0d826b4feb57"
      },
      "execution_count": 48,
      "outputs": [
        {
          "output_type": "stream",
          "name": "stdout",
          "text": [
            "0.9263919821826281\n",
            "[[4389  321]\n",
            " [ 340 3930]]\n"
          ]
        }
      ]
    },
    {
      "cell_type": "code",
      "source": [
        "plt.figure(figsize=(6,4))\n",
        "sns.heatmap(confusion_matrix(y_test, dt.predict(X_test_tfidf)), annot=True, fmt=\"d\", cmap=\"Blues\", xticklabels=[\"Fake\", \"True\"], yticklabels=[\"Fake\", \"True\"])\n",
        "plt.xlabel(\"Predicted\")\n",
        "plt.ylabel(\"Actual\")\n",
        "plt.title(\"Confusion Matrix dt Tunned\")\n",
        "plt.show()"
      ],
      "metadata": {
        "colab": {
          "base_uri": "https://localhost:8080/",
          "height": 410
        },
        "id": "puWDJIO1DagA",
        "outputId": "e633dcd5-86c5-42f2-9000-1d1f573c07f1"
      },
      "execution_count": 49,
      "outputs": [
        {
          "output_type": "display_data",
          "data": {
            "text/plain": [
              "<Figure size 600x400 with 2 Axes>"
            ],
            "image/png": "[encoded data removed]"
          },
          "metadata": {}
        }
      ]
    },
    {
      "cell_type": "code",
      "source": [],
      "metadata": {
        "id": "BvEIRa4PrjvU"
      },
      "execution_count": null,
      "outputs": []
    }
  ],
  "metadata": {
    "colab": {
      "provenance": []
    },
    "kernelspec": {
      "display_name": "Python 3",
      "name": "python3"
    },
    "language_info": {
      "name": "python"
    }
  },
  "nbformat": 4,
  "nbformat_minor": 0
}